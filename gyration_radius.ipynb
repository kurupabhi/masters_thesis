{
 "cells": [
  {
   "cell_type": "code",
   "execution_count": 1,
   "metadata": {},
   "outputs": [],
   "source": [
    "import numpy as np"
   ]
  },
  {
   "cell_type": "code",
   "execution_count": 2,
   "metadata": {},
   "outputs": [],
   "source": [
    "rand_point = np.random.normal(size=(20, 3))"
   ]
  },
  {
   "cell_type": "code",
   "execution_count": 3,
   "metadata": {},
   "outputs": [],
   "source": [
    "def gyration_rad(point_dist: np.ndarray):\n",
    "    centre_mass = np.sum(point_dist, axis=0)/len(point_dist)\n",
    "    gyr = 0.0\n",
    "    for i in range(len(point_dist)):\n",
    "        gyr = gyr + np.sum((point_dist[i, :] - centre_mass)**2)\n",
    "    return gyr/len(point_dist)\n",
    "\n",
    "def ball_density(num_points, radius):\n",
    "    return num_points/(4./3.*np.pi*radius**3)"
   ]
  },
  {
   "cell_type": "code",
   "execution_count": 6,
   "metadata": {},
   "outputs": [
    {
     "data": {
      "text/plain": [
       "0.6521873187810309"
      ]
     },
     "execution_count": 6,
     "metadata": {},
     "output_type": "execute_result"
    }
   ],
   "source": [
    "gyr_rad = gyration_rad(rand_point)\n",
    "gyr_rad = np.sqrt(gyr_rad)\n",
    "ball_density(len(rand_point), gyr_rad)"
   ]
  },
  {
   "cell_type": "code",
   "execution_count": 14,
   "metadata": {},
   "outputs": [
    {
     "data": {
      "text/plain": [
       "array([[-1.30143759,  0.7624966 ,  2.04140853],\n",
       "       [-0.8788082 , -0.64016308, -1.49412928],\n",
       "       [-0.99225812,  1.23021244,  0.17754724],\n",
       "       [ 1.793165  ,  0.01884604,  0.83554835],\n",
       "       [ 0.64918192, -0.69747294, -0.69195749],\n",
       "       [-0.06847584,  0.64647121, -1.03392691],\n",
       "       [-0.34066309,  1.77334114, -1.00955294],\n",
       "       [ 0.49358528, -0.18200268, -0.8427184 ],\n",
       "       [ 0.95579053, -0.60335019, -0.55031903],\n",
       "       [ 0.26933039, -0.49862397,  1.95755327],\n",
       "       [ 0.08065565, -3.61892362, -0.28378783],\n",
       "       [ 2.72839554,  1.34941515,  0.89635021],\n",
       "       [-1.95816054, -1.77514256, -0.06520163],\n",
       "       [ 1.44939017, -0.60144737, -0.94827677],\n",
       "       [ 0.99733183, -0.16991017,  0.46539994],\n",
       "       [ 0.15937831,  0.23671078,  0.6907196 ],\n",
       "       [-0.20482292,  0.32271462, -0.5725483 ],\n",
       "       [-0.71175136, -0.22337184, -1.20018224],\n",
       "       [-0.01089272, -0.78168325,  0.65291542],\n",
       "       [-0.23012421, -0.08211711,  0.38513919]])"
      ]
     },
     "execution_count": 14,
     "metadata": {},
     "output_type": "execute_result"
    }
   ],
   "source": [
    "rand_point"
   ]
  }
 ],
 "metadata": {
  "kernelspec": {
   "display_name": "Python 3",
   "language": "python",
   "name": "python3"
  },
  "language_info": {
   "codemirror_mode": {
    "name": "ipython",
    "version": 3
   },
   "file_extension": ".py",
   "mimetype": "text/x-python",
   "name": "python",
   "nbconvert_exporter": "python",
   "pygments_lexer": "ipython3",
   "version": "3.8.5"
  }
 },
 "nbformat": 4,
 "nbformat_minor": 4
}
