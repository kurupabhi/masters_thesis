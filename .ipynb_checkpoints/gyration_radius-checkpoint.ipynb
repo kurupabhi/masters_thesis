{
 "cells": [
  {
   "cell_type": "code",
   "execution_count": 1,
   "metadata": {},
   "outputs": [],
   "source": [
    "import numpy as np"
   ]
  },
  {
   "cell_type": "code",
   "execution_count": 2,
   "metadata": {},
   "outputs": [],
   "source": [
    "rand_point = np.random.normal(size=(20, 3))"
   ]
  },
  {
   "cell_type": "code",
   "execution_count": 3,
   "metadata": {},
   "outputs": [],
   "source": [
    "def gyration_rad(point_dist: np.ndarray):\n",
    "    centre_mass = np.sum(point_dist, axis=0)/len(point_dist)\n",
    "    gyr = 0.0\n",
    "    for i in range(len(point_dist)):\n",
    "        gyr = gyr + np.sum((point_dist[i, :] - centre_mass)**2)\n",
    "    return gyr/len(point_dist)\n",
    "\n",
    "def ball_density(num_points, radius):\n",
    "    return num_points/(4./3.*np.pi*radius**3)"
   ]
  },
  {
   "cell_type": "code",
   "execution_count": 4,
   "metadata": {},
   "outputs": [
    {
     "data": {
      "text/plain": [
       "0.7768000961858862"
      ]
     },
     "execution_count": 4,
     "metadata": {},
     "output_type": "execute_result"
    }
   ],
   "source": [
    "gyr_rad = gyration_rad(rand_point)\n",
    "gyr_rad = np.sqrt(gyr_rad)\n",
    "ball_density(len(rand_point), gyr_rad)"
   ]
  }
 ],
 "metadata": {
  "kernelspec": {
   "display_name": "Python 3",
   "language": "python",
   "name": "python3"
  },
  "language_info": {
   "codemirror_mode": {
    "name": "ipython",
    "version": 3
   },
   "file_extension": ".py",
   "mimetype": "text/x-python",
   "name": "python",
   "nbconvert_exporter": "python",
   "pygments_lexer": "ipython3",
   "version": "3.7.4"
  }
 },
 "nbformat": 4,
 "nbformat_minor": 4
}
