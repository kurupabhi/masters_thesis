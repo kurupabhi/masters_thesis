{
 "cells": [
  {
   "cell_type": "markdown",
   "metadata": {},
   "source": [
    "### Import packages"
   ]
  },
  {
   "cell_type": "code",
   "execution_count": 2,
   "metadata": {},
   "outputs": [
    {
     "name": "stdout",
     "output_type": "stream",
     "text": [
      "Collecting colour-science\n",
      "  Downloading colour_science-0.3.16-py2.py3-none-any.whl (2.1 MB)\n",
      "Requirement already satisfied: six in c:\\programdata\\anaconda3\\lib\\site-packages (from colour-science) (1.15.0)\n",
      "Requirement already satisfied: imageio in c:\\programdata\\anaconda3\\lib\\site-packages (from colour-science) (2.9.0)\n",
      "Requirement already satisfied: scipy<2.0.0,>=1.1.0 in c:\\programdata\\anaconda3\\lib\\site-packages (from colour-science) (1.5.2)\n",
      "Requirement already satisfied: numpy in c:\\programdata\\anaconda3\\lib\\site-packages (from imageio->colour-science) (1.19.2)\n",
      "Requirement already satisfied: pillow in c:\\programdata\\anaconda3\\lib\\site-packages (from imageio->colour-science) (8.0.1)\n",
      "Installing collected packages: colour-science\n",
      "Successfully installed colour-science-0.3.16\n"
     ]
    }
   ],
   "source": [
    "!pip install colour-science"
   ]
  },
  {
   "cell_type": "code",
   "execution_count": 3,
   "metadata": {},
   "outputs": [],
   "source": [
    "import matplotlib.pyplot as plt\n",
    "import numpy as np\n",
    "import pandas as pd\n",
    "import json\n",
    "import seaborn as sns\n",
    "from sklearn.cluster import KMeans\n",
    "\n",
    "#pip install colour-science\n",
    "from colour.plotting import *\n",
    "\n",
    "sns.set()\n",
    "import math\n",
    "\n",
    "# from jqmcvi import base\n",
    "\n",
    "# import nltk\n",
    "# nltk.download('wordnet')\n",
    "# from nltk.corpus import wordnet as wn"
   ]
  },
  {
   "cell_type": "markdown",
   "metadata": {},
   "source": [
    "## Data sources and preprocessing"
   ]
  },
  {
   "cell_type": "code",
   "execution_count": 4,
   "metadata": {},
   "outputs": [],
   "source": [
    "pantone_hex = pd.read_excel('Pantone_hex.xlsx').drop(columns='Colour').rename(columns={\"#Hex\": \"Hex\"})\n",
    "prods = pd.read_csv('csv_files/candles.csv')\n",
    "colours = pd.read_csv('csv_files/colours.csv')\n",
    "frag = pd.read_csv('csv_files/fragrances.csv')"
   ]
  },
  {
   "cell_type": "code",
   "execution_count": 10,
   "metadata": {},
   "outputs": [
    {
     "data": {
      "text/plain": [
       "240"
      ]
     },
     "execution_count": 10,
     "metadata": {},
     "output_type": "execute_result"
    }
   ],
   "source": [
    "len(prods.product_name.unique())"
   ]
  },
  {
   "cell_type": "code",
   "execution_count": 11,
   "metadata": {},
   "outputs": [
    {
     "data": {
      "text/plain": [
       "array(['Cookies & Cream', 'Creamy Vanilla', 'Happy Birthday',\n",
       "       'Passion Fruit', 'Pink Cherry', 'Sweet Cupcake',\n",
       "       'Pomegranate Lemonade', 'Wild Flowers', 'Mango Melon Smoothie',\n",
       "       'True Love', 'Lime Mint Sorbet', 'Fruity Watermelon',\n",
       "       'Marshmallow Fondue', 'Blueberry Pancakes', 'Sweet Angel',\n",
       "       'Speculoos Cookies', 'Winter Wonderland', 'Pistacio Macarons',\n",
       "       'Cinnamon Orange', 'Keep Calm & Relax', 'Good Luck',\n",
       "       'My Favorite Person', 'Fluffy Cotton', 'Raspberry Yoghurt',\n",
       "       'French Lavender', 'Fruity Smoothie', 'Happy Summer',\n",
       "       'Lilac & Jasmine', 'Tropical Peach', 'Monoi de Tahiti',\n",
       "       'Mulled Wine', 'Weihnachts-Kuschel', 'Iced Blossom',\n",
       "       'Crispy Popcorn', 'Amaretto Waffel', 'Toffee Delight', 'Rain Drops',\n",
       "       'Maple Syrup', 'Snowflakes', 'Roasted Coffee', 'Mousse au Chocolat',\n",
       "       'Vanilla Dreams', 'Christmas Cookies', 'Just Fabulous',\n",
       "       'Forget Me Not', 'Candy Cane', 'Fresh Lemonade',\n",
       "       'Bella, capricieuse, cute, funny, bad ass', 'Juicy Mandarin',\n",
       "       'Matcha Latte', 'Mulberry Mojito', 'Pear Ice Cream',\n",
       "       'Pink Grapefruit', 'Cassis Sorbet', 'Bubble Gum', 'Hello Summer',\n",
       "       'Summer Love', 'Unicorn Candle', 'Frozen Berries', 'Cozy & Lazy',\n",
       "       'Winter Sweets', 'Jingle Bells', 'Let it Snow', 'Christmas Bakery',\n",
       "       'Moonlight Flowers', 'Non mais aloé quoi', 'Marzipan Joy',\n",
       "       'Cinnamon Star', 'Mandarine Candy', 'Lemon Grass',\n",
       "       'Hello Beautiful', 'MrsBella Candle', 'Confidence',\n",
       "       'Lemon Cream Pie', 'Candy Floss', 'MrsBella', 'So Berry',\n",
       "       'Sun, Beach & Cocktail', 'Childhood Memories', 'Sugar Babe',\n",
       "       'Thai Orchid', 'Pina Colada', 'Hawaiian Coconut', 'Mermazing',\n",
       "       'Panda Bear', 'Fresh Lychee', 'Cozy Fireplace', 'Magical Winter',\n",
       "       'Hot Chestnut', 'Hot Chestnuts', 'Schoko-Minze', 'Soft Sandalwood',\n",
       "       'Delicious Christmas', 'Cuddle Candle', 'Dolce Vita',\n",
       "       'Ice Cream Orange', 'Chocolate Dreamer', 'Honey & Milk',\n",
       "       'Sangria Party', 'Fairy Dust', 'Tropical Like It‘s Hot!',\n",
       "       'Life is a Beach', 'Creme Brulee', 'Strawberry Cupcake',\n",
       "       'Creamy Cappuccino', 'Erfrischende Orange', 'Sweet Surprise',\n",
       "       'Fruchtige Feigen', 'Ice Cream Erdbeere', 'Litschi Zauber',\n",
       "       'Mojito', 'Spritzige Brombeere', 'Merry Christmas',\n",
       "       'Happy New Year', 'Gingerbread', 'Santa Claus', 'Cinnamon Bun',\n",
       "       'Vanilla Croissant', 'Baked Apple', 'Roasted Almonds',\n",
       "       'Pumpkin Spice', 'Zimtstern', 'Cookies & Cream (No Glass)',\n",
       "       'Creamy Vanilla (No Glass)', 'Happy Birthday (No Glass)',\n",
       "       'Pink Cherry (No Glass)', 'True Love (No Glass)', 'XOXO',\n",
       "       'Cuddle Candle (No Glass)', 'La Rêveuse', 'Fairy Unicorn',\n",
       "       'Christmas Lights', 'You are Wonderful', 'Snowy Nights',\n",
       "       'Coming Home', 'Cinnamon (No Glass)', 'Sweetheart', 'Iconic',\n",
       "       'Strawberry', 'Sweetest Reindeer', 'Friends Forever', 'Thank You',\n",
       "       'Fresh Sea Breeze', 'Fresh Forest Fruits', 'Crunchy Sugar',\n",
       "       'Blackberry Jam', 'Caramel Dream', 'Magical Love', 'Miniherz',\n",
       "       'Good Vibes Only', 'Happy Penguin', 'Pretty in Pink', 'Rosy Glow',\n",
       "       'Pure and Simple', 'You Are My Sunshine', 'Vanilla Applepie',\n",
       "       'Ice Cream Vanilla', 'Frische Minze', 'Cinnamon',\n",
       "       'Coconut Macaroons', 'Love You More', 'Mum while you are special',\n",
       "       'Infinity', 'Fairy Tale', 'Elegance', 'Beauty', 'Charming',\n",
       "       'Indian Summer', 'Don Skarlito', 'Lilac Cotton', 'Empowered',\n",
       "       'Vanilla Dreams (No Glass)', 'Tropical Mango', 'Apple & Peach',\n",
       "       'Red Fruits', 'Musk', 'Pink Magnolia', 'Neroli', 'Only For You',\n",
       "       'Coquette', 'Holly Chic', 'Mamaherz', 'Emotional', 'Sensual',\n",
       "       'Pummeleinhorn', 'Winter Castle', 'Winter Fantasy', 'Duality',\n",
       "       'Oh My Deer', 'Hawaiian Unicorn', 'JuwelZauber', 'Moonlight Melody',\n",
       "       'Sweet Chocolate', 'Bunny Egg', 'Passion', 'Lovely', 'Together',\n",
       "       \"Don't Dream It, Do It!\", 'Blossom', 'Wanderlust', 'Merci Chérie',\n",
       "       'Falling in Love', 'Little Owly', \"Don't Know Don't Care\",\n",
       "       'Moments', 'Oh, hey Vanilla', 'Fluffy, Warm & Cozy', 'Delish',\n",
       "       'Glitter Winter', 'Pour toujours & męme aprčs',\n",
       "       'Shhhh... Just Kiss Me', 'Magic Melon',\n",
       "       'La Vie En Rouge-or-Rosa-Rote Welt', 'You, Me, Chocolate',\n",
       "       'Cozy Winter', 'Endless Love', 'La-la Llama', 'Little Fox',\n",
       "       'Lady Skarlette', 'Sweet Dream', 'Christmas Unicorn', 'Dream Team',\n",
       "       'Happy Easter', 'You Blow Me Away', 'Cookies are Love',\n",
       "       'Lazy Sloth', 'Arabian Nights', 'Oh Happy Day', 'Aloha California',\n",
       "       'Bohemian Chic', \"You're a Gentleman\", 'Owl I Need Is You',\n",
       "       'Snowy Unicorn', 'Adventskranz', 'La Boutique du Coiffeur',\n",
       "       'Best Friend', 'Sparkle and Shine', 'Coco Loco', 'Tropical Vibes',\n",
       "       'Enchanting Forest'], dtype=object)"
      ]
     },
     "execution_count": 11,
     "metadata": {},
     "output_type": "execute_result"
    }
   ],
   "source": [
    "prods.product_name.unique()"
   ]
  },
  {
   "cell_type": "code",
   "execution_count": 116,
   "metadata": {},
   "outputs": [
    {
     "data": {
      "text/html": [
       "<div>\n",
       "<style scoped>\n",
       "    .dataframe tbody tr th:only-of-type {\n",
       "        vertical-align: middle;\n",
       "    }\n",
       "\n",
       "    .dataframe tbody tr th {\n",
       "        vertical-align: top;\n",
       "    }\n",
       "\n",
       "    .dataframe thead th {\n",
       "        text-align: right;\n",
       "    }\n",
       "</style>\n",
       "<table border=\"1\" class=\"dataframe\">\n",
       "  <thead>\n",
       "    <tr style=\"text-align: right;\">\n",
       "      <th></th>\n",
       "      <th>Pantone</th>\n",
       "      <th>Hex</th>\n",
       "      <th>hue</th>\n",
       "      <th>saturation</th>\n",
       "      <th>lightness</th>\n",
       "      <th>hue_group</th>\n",
       "      <th>hue_sub_group</th>\n",
       "      <th>lightness_group</th>\n",
       "      <th>saturation_group</th>\n",
       "    </tr>\n",
       "  </thead>\n",
       "  <tbody>\n",
       "    <tr>\n",
       "      <td>0</td>\n",
       "      <td>YellowC</td>\n",
       "      <td>FEDD00</td>\n",
       "      <td>52</td>\n",
       "      <td>100</td>\n",
       "      <td>50</td>\n",
       "      <td>Oranges</td>\n",
       "      <td>O3</td>\n",
       "      <td>3</td>\n",
       "      <td>1</td>\n",
       "    </tr>\n",
       "    <tr>\n",
       "      <td>1</td>\n",
       "      <td>Yellow 012C</td>\n",
       "      <td>FFD700</td>\n",
       "      <td>51</td>\n",
       "      <td>100</td>\n",
       "      <td>50</td>\n",
       "      <td>Oranges</td>\n",
       "      <td>O3</td>\n",
       "      <td>3</td>\n",
       "      <td>1</td>\n",
       "    </tr>\n",
       "    <tr>\n",
       "      <td>2</td>\n",
       "      <td>Orange 021C</td>\n",
       "      <td>FE5000</td>\n",
       "      <td>19</td>\n",
       "      <td>100</td>\n",
       "      <td>50</td>\n",
       "      <td>Reds</td>\n",
       "      <td>R2</td>\n",
       "      <td>3</td>\n",
       "      <td>1</td>\n",
       "    </tr>\n",
       "    <tr>\n",
       "      <td>3</td>\n",
       "      <td>Warm RedC</td>\n",
       "      <td>F9423A</td>\n",
       "      <td>3</td>\n",
       "      <td>94</td>\n",
       "      <td>60</td>\n",
       "      <td>Reds</td>\n",
       "      <td>R1</td>\n",
       "      <td>2</td>\n",
       "      <td>1</td>\n",
       "    </tr>\n",
       "    <tr>\n",
       "      <td>4</td>\n",
       "      <td>Red 032C</td>\n",
       "      <td>EF3340</td>\n",
       "      <td>356</td>\n",
       "      <td>85</td>\n",
       "      <td>57</td>\n",
       "      <td>Magenta-Reds</td>\n",
       "      <td>MR3</td>\n",
       "      <td>3</td>\n",
       "      <td>1</td>\n",
       "    </tr>\n",
       "    <tr>\n",
       "      <td>...</td>\n",
       "      <td>...</td>\n",
       "      <td>...</td>\n",
       "      <td>...</td>\n",
       "      <td>...</td>\n",
       "      <td>...</td>\n",
       "      <td>...</td>\n",
       "      <td>...</td>\n",
       "      <td>...</td>\n",
       "      <td>...</td>\n",
       "    </tr>\n",
       "    <tr>\n",
       "      <td>1336</td>\n",
       "      <td>Black 3C</td>\n",
       "      <td>212721</td>\n",
       "      <td>120</td>\n",
       "      <td>8</td>\n",
       "      <td>14</td>\n",
       "      <td>Greens</td>\n",
       "      <td>G1</td>\n",
       "      <td>5</td>\n",
       "      <td>5</td>\n",
       "    </tr>\n",
       "    <tr>\n",
       "      <td>1337</td>\n",
       "      <td>Black 4C</td>\n",
       "      <td>31261D</td>\n",
       "      <td>27</td>\n",
       "      <td>26</td>\n",
       "      <td>15</td>\n",
       "      <td>Reds</td>\n",
       "      <td>R3</td>\n",
       "      <td>5</td>\n",
       "      <td>4</td>\n",
       "    </tr>\n",
       "    <tr>\n",
       "      <td>1338</td>\n",
       "      <td>Black 5C</td>\n",
       "      <td>3E2B2E</td>\n",
       "      <td>351</td>\n",
       "      <td>18</td>\n",
       "      <td>21</td>\n",
       "      <td>Magenta-Reds</td>\n",
       "      <td>MR3</td>\n",
       "      <td>4</td>\n",
       "      <td>5</td>\n",
       "    </tr>\n",
       "    <tr>\n",
       "      <td>1339</td>\n",
       "      <td>Black 6C</td>\n",
       "      <td>101820</td>\n",
       "      <td>210</td>\n",
       "      <td>33</td>\n",
       "      <td>9</td>\n",
       "      <td>Cyan-Blues</td>\n",
       "      <td>CB1</td>\n",
       "      <td>5</td>\n",
       "      <td>4</td>\n",
       "    </tr>\n",
       "    <tr>\n",
       "      <td>1340</td>\n",
       "      <td>Black 7C</td>\n",
       "      <td>3D3935</td>\n",
       "      <td>30</td>\n",
       "      <td>7</td>\n",
       "      <td>22</td>\n",
       "      <td>Oranges</td>\n",
       "      <td>O1</td>\n",
       "      <td>4</td>\n",
       "      <td>5</td>\n",
       "    </tr>\n",
       "  </tbody>\n",
       "</table>\n",
       "<p>1341 rows × 9 columns</p>\n",
       "</div>"
      ],
      "text/plain": [
       "          Pantone     Hex  hue  saturation  lightness     hue_group  \\\n",
       "0         YellowC  FEDD00   52         100         50       Oranges   \n",
       "1     Yellow 012C  FFD700   51         100         50       Oranges   \n",
       "2     Orange 021C  FE5000   19         100         50          Reds   \n",
       "3       Warm RedC  F9423A    3          94         60          Reds   \n",
       "4        Red 032C  EF3340  356          85         57  Magenta-Reds   \n",
       "...           ...     ...  ...         ...        ...           ...   \n",
       "1336     Black 3C  212721  120           8         14        Greens   \n",
       "1337     Black 4C  31261D   27          26         15          Reds   \n",
       "1338     Black 5C  3E2B2E  351          18         21  Magenta-Reds   \n",
       "1339     Black 6C  101820  210          33          9    Cyan-Blues   \n",
       "1340     Black 7C  3D3935   30           7         22       Oranges   \n",
       "\n",
       "     hue_sub_group  lightness_group  saturation_group  \n",
       "0               O3                3                 1  \n",
       "1               O3                3                 1  \n",
       "2               R2                3                 1  \n",
       "3               R1                2                 1  \n",
       "4              MR3                3                 1  \n",
       "...            ...              ...               ...  \n",
       "1336            G1                5                 5  \n",
       "1337            R3                5                 4  \n",
       "1338           MR3                4                 5  \n",
       "1339           CB1                5                 4  \n",
       "1340            O1                4                 5  \n",
       "\n",
       "[1341 rows x 9 columns]"
      ]
     },
     "execution_count": 116,
     "metadata": {},
     "output_type": "execute_result"
    }
   ],
   "source": [
    "pantone_hex"
   ]
  },
  {
   "cell_type": "code",
   "execution_count": 5,
   "metadata": {},
   "outputs": [],
   "source": [
    "frag.columns = ['smell_code', 'smell_group', 'smell_subgroup', 'smell_head',\n",
    "                'smell_heart', 'smell_base', 'smell_percentage']\n",
    "frag = frag[['smell_code', 'smell_group', 'smell_subgroup',\n",
    "             'smell_head','smell_heart', 'smell_base']]"
   ]
  },
  {
   "cell_type": "code",
   "execution_count": 6,
   "metadata": {},
   "outputs": [
    {
     "data": {
      "text/html": [
       "<div>\n",
       "<style scoped>\n",
       "    .dataframe tbody tr th:only-of-type {\n",
       "        vertical-align: middle;\n",
       "    }\n",
       "\n",
       "    .dataframe tbody tr th {\n",
       "        vertical-align: top;\n",
       "    }\n",
       "\n",
       "    .dataframe thead th {\n",
       "        text-align: right;\n",
       "    }\n",
       "</style>\n",
       "<table border=\"1\" class=\"dataframe\">\n",
       "  <thead>\n",
       "    <tr style=\"text-align: right;\">\n",
       "      <th></th>\n",
       "      <th>smell_code</th>\n",
       "      <th>smell_group</th>\n",
       "      <th>smell_subgroup</th>\n",
       "      <th>smell_head</th>\n",
       "      <th>smell_heart</th>\n",
       "      <th>smell_base</th>\n",
       "    </tr>\n",
       "  </thead>\n",
       "  <tbody>\n",
       "    <tr>\n",
       "      <th>0</th>\n",
       "      <td>AR309941</td>\n",
       "      <td>Oriental</td>\n",
       "      <td>Gourmand</td>\n",
       "      <td>coconut, almond</td>\n",
       "      <td>gourmande, sweet, chocolate</td>\n",
       "      <td>vanilla</td>\n",
       "    </tr>\n",
       "    <tr>\n",
       "      <th>1</th>\n",
       "      <td>AR452415</td>\n",
       "      <td>Floral</td>\n",
       "      <td>Floriental</td>\n",
       "      <td>hot pink pepper, strawberry and cassis</td>\n",
       "      <td>heady tuberose, jasmine,  white lily whilst</td>\n",
       "      <td>Patchouli, vanilla, precious musk</td>\n",
       "    </tr>\n",
       "    <tr>\n",
       "      <th>2</th>\n",
       "      <td>AR289591</td>\n",
       "      <td>Oriental</td>\n",
       "      <td>Floriental</td>\n",
       "      <td>coconut, milk</td>\n",
       "      <td>Jasmin</td>\n",
       "      <td>vanilla, caramelized sugar</td>\n",
       "    </tr>\n",
       "    <tr>\n",
       "      <th>3</th>\n",
       "      <td>AL223556</td>\n",
       "      <td>Fresh</td>\n",
       "      <td>Fruity</td>\n",
       "      <td>Citrus, Orange, Bergamot</td>\n",
       "      <td>Citrus, Green Mango, Sea Salt</td>\n",
       "      <td>Sea Kelp, Floral, Amber</td>\n",
       "    </tr>\n",
       "    <tr>\n",
       "      <th>4</th>\n",
       "      <td>AL223563</td>\n",
       "      <td>Fresh</td>\n",
       "      <td>Flowery</td>\n",
       "      <td>Lavender, Moss</td>\n",
       "      <td>Sea Minerals, Bergamot</td>\n",
       "      <td>Sandalwood, Amber</td>\n",
       "    </tr>\n",
       "    <tr>\n",
       "      <th>...</th>\n",
       "      <td>...</td>\n",
       "      <td>...</td>\n",
       "      <td>...</td>\n",
       "      <td>...</td>\n",
       "      <td>...</td>\n",
       "      <td>...</td>\n",
       "    </tr>\n",
       "    <tr>\n",
       "      <th>225</th>\n",
       "      <td>GG3021</td>\n",
       "      <td>Floral</td>\n",
       "      <td>Floral</td>\n",
       "      <td>Neroli, Ylang</td>\n",
       "      <td>White GARDENIA, ORANGE FLOWER, frangipani, mon...</td>\n",
       "      <td>Musk, coconut, carnation, milky</td>\n",
       "    </tr>\n",
       "    <tr>\n",
       "      <th>226</th>\n",
       "      <td>19-0001502</td>\n",
       "      <td>Floral</td>\n",
       "      <td>Floral</td>\n",
       "      <td>Fresh, Bitter Orange, Bergamot</td>\n",
       "      <td>Orange blossom, Jasmine, Patchouli</td>\n",
       "      <td>White Musk, Vanilla, Amber</td>\n",
       "    </tr>\n",
       "    <tr>\n",
       "      <th>227</th>\n",
       "      <td>PRX022406</td>\n",
       "      <td>Tasty</td>\n",
       "      <td>Sweet</td>\n",
       "      <td>Cinnamon</td>\n",
       "      <td>Milk Caramelised Sugar</td>\n",
       "      <td>Vanilla, Benzoin Resinoid</td>\n",
       "    </tr>\n",
       "    <tr>\n",
       "      <th>228</th>\n",
       "      <td>GG2698</td>\n",
       "      <td>Powdrey</td>\n",
       "      <td>Milky</td>\n",
       "      <td>Hint of lemon</td>\n",
       "      <td>cupcake, buttercream icing, nutme</td>\n",
       "      <td>Vanilla, warm musk</td>\n",
       "    </tr>\n",
       "    <tr>\n",
       "      <th>229</th>\n",
       "      <td>E1922777</td>\n",
       "      <td>Woody</td>\n",
       "      <td>Oriental</td>\n",
       "      <td>Green, Fresh, Citrusy, Fig tree leaves, Bergamot</td>\n",
       "      <td>Floral, Lily of the valley, Jasmine, Freesia, ...</td>\n",
       "      <td>Woody, Patchouli, Moss, Musky, Amber, Vanilla</td>\n",
       "    </tr>\n",
       "  </tbody>\n",
       "</table>\n",
       "<p>230 rows × 6 columns</p>\n",
       "</div>"
      ],
      "text/plain": [
       "     smell_code smell_group smell_subgroup  \\\n",
       "0      AR309941    Oriental       Gourmand   \n",
       "1      AR452415      Floral     Floriental   \n",
       "2      AR289591    Oriental     Floriental   \n",
       "3      AL223556       Fresh         Fruity   \n",
       "4      AL223563       Fresh        Flowery   \n",
       "..          ...         ...            ...   \n",
       "225      GG3021      Floral         Floral   \n",
       "226  19-0001502      Floral         Floral   \n",
       "227   PRX022406       Tasty          Sweet   \n",
       "228      GG2698     Powdrey          Milky   \n",
       "229    E1922777       Woody       Oriental   \n",
       "\n",
       "                                           smell_head  \\\n",
       "0                                     coconut, almond   \n",
       "1              hot pink pepper, strawberry and cassis   \n",
       "2                                       coconut, milk   \n",
       "3                            Citrus, Orange, Bergamot   \n",
       "4                                      Lavender, Moss   \n",
       "..                                                ...   \n",
       "225                                     Neroli, Ylang   \n",
       "226                    Fresh, Bitter Orange, Bergamot   \n",
       "227                                          Cinnamon   \n",
       "228                                     Hint of lemon   \n",
       "229  Green, Fresh, Citrusy, Fig tree leaves, Bergamot   \n",
       "\n",
       "                                           smell_heart  \\\n",
       "0                          gourmande, sweet, chocolate   \n",
       "1          heady tuberose, jasmine,  white lily whilst   \n",
       "2                                               Jasmin   \n",
       "3                        Citrus, Green Mango, Sea Salt   \n",
       "4                               Sea Minerals, Bergamot   \n",
       "..                                                 ...   \n",
       "225  White GARDENIA, ORANGE FLOWER, frangipani, mon...   \n",
       "226                 Orange blossom, Jasmine, Patchouli   \n",
       "227                             Milk Caramelised Sugar   \n",
       "228                  cupcake, buttercream icing, nutme   \n",
       "229  Floral, Lily of the valley, Jasmine, Freesia, ...   \n",
       "\n",
       "                                        smell_base  \n",
       "0                                          vanilla  \n",
       "1                Patchouli, vanilla, precious musk  \n",
       "2                       vanilla, caramelized sugar  \n",
       "3                          Sea Kelp, Floral, Amber  \n",
       "4                                Sandalwood, Amber  \n",
       "..                                             ...  \n",
       "225                Musk, coconut, carnation, milky  \n",
       "226                     White Musk, Vanilla, Amber  \n",
       "227                      Vanilla, Benzoin Resinoid  \n",
       "228                             Vanilla, warm musk  \n",
       "229  Woody, Patchouli, Moss, Musky, Amber, Vanilla  \n",
       "\n",
       "[230 rows x 6 columns]"
      ]
     },
     "execution_count": 6,
     "metadata": {},
     "output_type": "execute_result"
    }
   ],
   "source": [
    "frag"
   ]
  },
  {
   "cell_type": "markdown",
   "metadata": {},
   "source": [
    "## Colour categorization"
   ]
  },
  {
   "cell_type": "code",
   "execution_count": 4,
   "metadata": {},
   "outputs": [
    {
     "data": {
      "text/html": [
       "<div>\n",
       "<style scoped>\n",
       "    .dataframe tbody tr th:only-of-type {\n",
       "        vertical-align: middle;\n",
       "    }\n",
       "\n",
       "    .dataframe tbody tr th {\n",
       "        vertical-align: top;\n",
       "    }\n",
       "\n",
       "    .dataframe thead th {\n",
       "        text-align: right;\n",
       "    }\n",
       "</style>\n",
       "<table border=\"1\" class=\"dataframe\">\n",
       "  <thead>\n",
       "    <tr style=\"text-align: right;\">\n",
       "      <th></th>\n",
       "      <th>sku</th>\n",
       "      <th>product_name</th>\n",
       "      <th>edition</th>\n",
       "      <th>season</th>\n",
       "      <th>colour_pantone</th>\n",
       "      <th>smell_code</th>\n",
       "    </tr>\n",
       "  </thead>\n",
       "  <tbody>\n",
       "    <tr>\n",
       "      <td>0</td>\n",
       "      <td>10101DE</td>\n",
       "      <td>Cookies &amp; Cream</td>\n",
       "      <td>classic</td>\n",
       "      <td>all_year</td>\n",
       "      <td>7506C</td>\n",
       "      <td>18123F</td>\n",
       "    </tr>\n",
       "    <tr>\n",
       "      <td>1</td>\n",
       "      <td>10101DE-L</td>\n",
       "      <td>Cookies &amp; Cream</td>\n",
       "      <td>classic</td>\n",
       "      <td>all_year</td>\n",
       "      <td>7506C</td>\n",
       "      <td>18123F</td>\n",
       "    </tr>\n",
       "    <tr>\n",
       "      <td>2</td>\n",
       "      <td>10101DE-M</td>\n",
       "      <td>Cookies &amp; Cream</td>\n",
       "      <td>classic</td>\n",
       "      <td>all_year</td>\n",
       "      <td>7506C</td>\n",
       "      <td>18123F</td>\n",
       "    </tr>\n",
       "    <tr>\n",
       "      <td>3</td>\n",
       "      <td>10101DE-S</td>\n",
       "      <td>Cookies &amp; Cream</td>\n",
       "      <td>classic</td>\n",
       "      <td>all_year</td>\n",
       "      <td>7506C</td>\n",
       "      <td>18123F</td>\n",
       "    </tr>\n",
       "    <tr>\n",
       "      <td>4</td>\n",
       "      <td>10101FR</td>\n",
       "      <td>Cookies &amp; Cream</td>\n",
       "      <td>classic</td>\n",
       "      <td>all_year</td>\n",
       "      <td>7506C</td>\n",
       "      <td>18123F</td>\n",
       "    </tr>\n",
       "  </tbody>\n",
       "</table>\n",
       "</div>"
      ],
      "text/plain": [
       "         sku     product_name  edition    season colour_pantone smell_code\n",
       "0    10101DE  Cookies & Cream  classic  all_year          7506C     18123F\n",
       "1  10101DE-L  Cookies & Cream  classic  all_year          7506C     18123F\n",
       "2  10101DE-M  Cookies & Cream  classic  all_year          7506C     18123F\n",
       "3  10101DE-S  Cookies & Cream  classic  all_year          7506C     18123F\n",
       "4    10101FR  Cookies & Cream  classic  all_year          7506C     18123F"
      ]
     },
     "execution_count": 4,
     "metadata": {},
     "output_type": "execute_result"
    }
   ],
   "source": [
    "prods.head()"
   ]
  },
  {
   "cell_type": "code",
   "execution_count": 5,
   "metadata": {},
   "outputs": [
    {
     "data": {
      "text/html": [
       "<div>\n",
       "<style scoped>\n",
       "    .dataframe tbody tr th:only-of-type {\n",
       "        vertical-align: middle;\n",
       "    }\n",
       "\n",
       "    .dataframe tbody tr th {\n",
       "        vertical-align: top;\n",
       "    }\n",
       "\n",
       "    .dataframe thead th {\n",
       "        text-align: right;\n",
       "    }\n",
       "</style>\n",
       "<table border=\"1\" class=\"dataframe\">\n",
       "  <thead>\n",
       "    <tr style=\"text-align: right;\">\n",
       "      <th></th>\n",
       "      <th>pantone</th>\n",
       "      <th>hex</th>\n",
       "      <th>munsell_hue</th>\n",
       "      <th>munsell_value</th>\n",
       "      <th>munsell_chroma</th>\n",
       "      <th>name</th>\n",
       "    </tr>\n",
       "  </thead>\n",
       "  <tbody>\n",
       "    <tr>\n",
       "      <td>0</td>\n",
       "      <td>7499C</td>\n",
       "      <td>F1E6B2</td>\n",
       "      <td>10Y</td>\n",
       "      <td>9</td>\n",
       "      <td>4</td>\n",
       "      <td>Light Yellow</td>\n",
       "    </tr>\n",
       "    <tr>\n",
       "      <td>1</td>\n",
       "      <td>2587C</td>\n",
       "      <td>8246AF</td>\n",
       "      <td>2.5P</td>\n",
       "      <td>4</td>\n",
       "      <td>14</td>\n",
       "      <td>Dark Purple</td>\n",
       "    </tr>\n",
       "    <tr>\n",
       "      <td>2</td>\n",
       "      <td>357C</td>\n",
       "      <td>215732</td>\n",
       "      <td>10GY</td>\n",
       "      <td>3</td>\n",
       "      <td>6</td>\n",
       "      <td>Green</td>\n",
       "    </tr>\n",
       "    <tr>\n",
       "      <td>3</td>\n",
       "      <td>204C</td>\n",
       "      <td>E782A9</td>\n",
       "      <td>7.5RP</td>\n",
       "      <td>6</td>\n",
       "      <td>10</td>\n",
       "      <td>Light Pink</td>\n",
       "    </tr>\n",
       "    <tr>\n",
       "      <td>4</td>\n",
       "      <td>2635C</td>\n",
       "      <td>C5B4E3</td>\n",
       "      <td>2.5P</td>\n",
       "      <td>7</td>\n",
       "      <td>6</td>\n",
       "      <td>Light Purple</td>\n",
       "    </tr>\n",
       "  </tbody>\n",
       "</table>\n",
       "</div>"
      ],
      "text/plain": [
       "  pantone     hex munsell_hue  munsell_value  munsell_chroma          name\n",
       "0   7499C  F1E6B2         10Y              9               4  Light Yellow\n",
       "1   2587C  8246AF        2.5P              4              14   Dark Purple\n",
       "2    357C  215732        10GY              3               6        Green \n",
       "3    204C  E782A9       7.5RP              6              10    Light Pink\n",
       "4   2635C  C5B4E3        2.5P              7               6  Light Purple"
      ]
     },
     "execution_count": 5,
     "metadata": {},
     "output_type": "execute_result"
    }
   ],
   "source": [
    "colours.head()"
   ]
  },
  {
   "cell_type": "code",
   "execution_count": 200,
   "metadata": {},
   "outputs": [
    {
     "name": "stdout",
     "output_type": "stream",
     "text": [
      "Hex Value - #123450 \n",
      "\n",
      " RGB Values\n",
      "Red - 18.0 , Blue - 52.0 , Green - 80.0 \n",
      "\n",
      " HSL Values\n",
      "Hue - 207 , Saturation - 63 , Lightness - 19\n"
     ]
    }
   ],
   "source": [
    "_hex = '#123450'\n",
    "print('Hex Value -', _hex,'\\n\\n RGB Values\\n'\\\n",
    "      'Red -', hex_to_rgb(_hex)[0]*255, \\\n",
    "      ', Blue -', hex_to_rgb(_hex)[1]*255, \\\n",
    "      ', Green -', hex_to_rgb(_hex)[2]*255, \\\n",
    "      '\\n\\n HSL Values\\n'\\\n",
    "      'Hue -',round(rgb_to_hsl(hex_to_rgb(_hex)[0], hex_to_rgb(_hex)[1], hex_to_rgb(_hex)[2])[0]*360),\\\n",
    "      ', Saturation -',round(rgb_to_hsl(hex_to_rgb(_hex)[0], hex_to_rgb(_hex)[1], hex_to_rgb(_hex)[2])[1]*100),\\\n",
    "      ', Lightness -',round(rgb_to_hsl(hex_to_rgb(_hex)[0], hex_to_rgb(_hex)[1], hex_to_rgb(_hex)[2])[2]*100)\n",
    "     )"
   ]
  },
  {
   "cell_type": "code",
   "execution_count": 7,
   "metadata": {},
   "outputs": [],
   "source": [
    "# Function to convert hex values to RGB values\n",
    "\n",
    "def hex_to_rgb(hex_value):\n",
    "    h = str(hex_value).lstrip('#')\n",
    "    return tuple(int(h[i:i + 2], 16) / 255.0 for i in (0, 2, 4))"
   ]
  },
  {
   "cell_type": "code",
   "execution_count": 8,
   "metadata": {},
   "outputs": [],
   "source": [
    "# Function to plot colours from list of colour hexes\n",
    "\n",
    "def colour_plot(colour_list):\n",
    "    hex_colors  = col_hex.hex[(col_hex.name.isin(colour_list))].values.tolist()\n",
    "    # '#9639' is an invalid hex\n",
    "    rgb_colors = list(map(hex_to_rgb, hex_colors))\n",
    "    #print(rgb_colors)\n",
    "    sns.palplot(rgb_colors)"
   ]
  },
  {
   "cell_type": "code",
   "execution_count": 9,
   "metadata": {},
   "outputs": [],
   "source": [
    "# Function to store colours with similar  names in a list\n",
    "# Parameters: colour - name of the colour; list_name - name of the list to store the similar colours in .\n",
    "\n",
    "def sim_colour(colour, list_name):\n",
    "    list_name=[]\n",
    "    for n in col_hex.name.unique().tolist():\n",
    "        if colour in n:\n",
    "            list_name.append(n)\n",
    "    return list_name"
   ]
  },
  {
   "cell_type": "code",
   "execution_count": 10,
   "metadata": {},
   "outputs": [],
   "source": [
    "# Function to convert RGB values to HSL values\n",
    "\n",
    "def rgb_to_hsl(r, g, b):\n",
    "    r = float(r)\n",
    "    g = float(g)\n",
    "    b = float(b)\n",
    "    high = max(r, g, b)\n",
    "    low = min(r, g, b)\n",
    "    h, s, l = ((high + low) / 2,)*3\n",
    "\n",
    "    if high == low:\n",
    "        h = 0.0\n",
    "        s = 0.0\n",
    "    else:\n",
    "        l = (high + low) / 2\n",
    "        d = high - low\n",
    "        s = d / (2 - high - low) if l > 0.5 else d / (high + low)\n",
    "        h = {\n",
    "            r: (g - b) / d + (6 if g < b else 0),\n",
    "            g: (b - r) / d + 2,\n",
    "            b: (r - g) / d + 4,\n",
    "        }[high]\n",
    "        h /= 6\n",
    "\n",
    "    return h, s, l"
   ]
  },
  {
   "cell_type": "code",
   "execution_count": 11,
   "metadata": {},
   "outputs": [],
   "source": [
    "# Calculate hue for each colour\n",
    "\n",
    "# The use of pantone_hex dataset would not be needed as the hex values would be used directly from \n",
    "# the main dataset once available\n",
    "\n",
    "\n",
    "hue=[]\n",
    "saturation=[]\n",
    "lightness=[]\n",
    "\n",
    "for i in range(len(pantone_hex.Hex)):\n",
    "    hue.append(\n",
    "        round(\n",
    "            rgb_to_hsl(\n",
    "                hex_to_rgb(pantone_hex.Hex.astype(str)[i])[0], \n",
    "                hex_to_rgb(pantone_hex.Hex.astype(str)[i])[1], \n",
    "                hex_to_rgb(pantone_hex.Hex.astype(str)[i])[2])[0]*360)\n",
    "    )\n",
    "\n",
    "for i in range(len(pantone_hex.Hex)):\n",
    "    saturation.append(\n",
    "        round(\n",
    "            rgb_to_hsl(\n",
    "                hex_to_rgb(pantone_hex.Hex.astype(str)[i])[0], \n",
    "                hex_to_rgb(pantone_hex.Hex.astype(str)[i])[1], \n",
    "                hex_to_rgb(pantone_hex.Hex.astype(str)[i])[2])[1]*100)\n",
    "    )\n",
    "    \n",
    "for i in range(len(pantone_hex.Hex)):\n",
    "    lightness.append(\n",
    "        round(\n",
    "            rgb_to_hsl(\n",
    "                hex_to_rgb(pantone_hex.Hex.astype(str)[i])[0], \n",
    "                hex_to_rgb(pantone_hex.Hex.astype(str)[i])[1], \n",
    "                hex_to_rgb(pantone_hex.Hex.astype(str)[i])[2])[2]*100)\n",
    "    )    \n",
    "    \n",
    "pantone_hex['hue']=hue\n",
    "pantone_hex['saturation']=saturation\n",
    "pantone_hex['lightness']=lightness"
   ]
  },
  {
   "cell_type": "code",
   "execution_count": 12,
   "metadata": {},
   "outputs": [],
   "source": [
    "# pantone_hex['hue']=hue\n",
    "# pantone_hex['saturation']=saturation\n",
    "# pantone_hex['lightness']=lightness"
   ]
  },
  {
   "cell_type": "markdown",
   "metadata": {},
   "source": [
    "### Manual categorisation based on visual differences"
   ]
  },
  {
   "cell_type": "code",
   "execution_count": 13,
   "metadata": {},
   "outputs": [],
   "source": [
    "# Define the major colour groups for each Hue\n",
    "\n",
    "def hue_group(i):\n",
    "    if   pantone_hex.hue[i] in range(330,361) : return 'Magenta-Reds'\n",
    "    elif pantone_hex.hue[i] in range(300,330) : return 'Magentas'\n",
    "    elif pantone_hex.hue[i] in range(270,300) : return 'Blue-Magentas'\n",
    "    elif pantone_hex.hue[i] in range(240,270) : return 'Blues'\n",
    "    elif pantone_hex.hue[i] in range(210,240) : return 'Cyan-Blues'\n",
    "    elif pantone_hex.hue[i] in range(180,210) : return 'Cyans'\n",
    "    elif pantone_hex.hue[i] in range(150,180) : return 'Greens-Cyans'\n",
    "    elif pantone_hex.hue[i] in range(120,150) : return 'Greens'\n",
    "    elif pantone_hex.hue[i] in range(90 ,120) : return 'Yellow-Greens'\n",
    "    elif pantone_hex.hue[i] in range(60 , 90) : return 'Yellows'\n",
    "    elif pantone_hex.hue[i] in range(30 , 60) : return 'Oranges'\n",
    "    else: return 'Reds'\n",
    "\n",
    "# Create list of colour groups\n",
    "hg=[]\n",
    "for i in range(len(pantone_hex.hue)):\n",
    "    hg.append(hue_group(i))\n",
    "\n",
    "# Add the colour groups to dataframe\n",
    "pantone_hex['hue_group']=hg"
   ]
  },
  {
   "cell_type": "code",
   "execution_count": 14,
   "metadata": {},
   "outputs": [],
   "source": [
    "# Splitting Hues into sub groups\n",
    "\n",
    "def hue_sub_group(i):\n",
    "\tif pantone_hex.hue_group[i]=='Magenta-Reds' : \n",
    "\t\tif pantone_hex.hue[i] in range(330,340): return('MR1')\n",
    "\t\telif pantone_hex.hue[i] in range(340,350): return('MR2')\n",
    "\t\telse: return('MR3')\n",
    "\telif pantone_hex.hue_group[i]=='Magentas' : \n",
    "\t\tif pantone_hex.hue[i] in range(300,310): return('M1')\n",
    "\t\telif pantone_hex.hue[i] in range(310,320): return('M2')\n",
    "\t\telse: return('M3')\n",
    "\telif pantone_hex.hue_group[i]=='Blue-Magentas' : \n",
    "\t\tif pantone_hex.hue[i] in range(270,280): return('BM1')\n",
    "\t\telif pantone_hex.hue[i] in range(280,290): return('BM2')\n",
    "\t\telse: return('BM3')\n",
    "\telif pantone_hex.hue_group[i]=='Blues' : \n",
    "\t\tif pantone_hex.hue[i] in range(240,250): return('B1')\n",
    "\t\telif pantone_hex.hue[i] in range(250,260): return('B2')\n",
    "\t\telse: return('B3')\n",
    "\telif pantone_hex.hue_group[i]=='Cyan-Blues' : \n",
    "\t\tif pantone_hex.hue[i] in range(210,220): return('CB1')\n",
    "\t\telif pantone_hex.hue[i] in range(220,230): return('CB2')\n",
    "\t\telse: return('CB3')\n",
    "\telif pantone_hex.hue_group[i]=='Cyans' : \n",
    "\t\tif pantone_hex.hue[i] in range(180,190): return('C1')\n",
    "\t\telif pantone_hex.hue[i] in range(190,200): return('C2')\n",
    "\t\telse: return('C3')        \n",
    "\telif pantone_hex.hue_group[i]=='Greens-Cyans' : \n",
    "\t\tif pantone_hex.hue[i] in range(150,160): return('GC1')\n",
    "\t\telif pantone_hex.hue[i] in range(160,170): return('GC2')\n",
    "\t\telse: return('GC3')\n",
    "\telif pantone_hex.hue_group[i]=='Greens' : \n",
    "\t\tif pantone_hex.hue[i] in range(120,130): return('G1')\n",
    "\t\telif pantone_hex.hue[i] in range(130,140): return('G2')\n",
    "\t\telse: return('G3')        \n",
    "\telif pantone_hex.hue_group[i]=='Yellow-Greens' : \n",
    "\t\tif pantone_hex.hue[i] in range(90,100): return('YG1')\n",
    "\t\telif pantone_hex.hue[i] in range(100,110): return('YG2')\n",
    "\t\telse: return('YG3')\n",
    "\telif pantone_hex.hue_group[i]=='Yellows' : \n",
    "\t\tif pantone_hex.hue[i] in range(60,70): return('Y1')\n",
    "\t\telif pantone_hex.hue[i] in range(70,80): return('Y2')\n",
    "\t\telse: return('Y3')        \n",
    "\telif pantone_hex.hue_group[i]=='Oranges' : \n",
    "\t\tif pantone_hex.hue[i] in range(30,40): return('O1')\n",
    "\t\telif pantone_hex.hue[i] in range(40,50): return('O2')\n",
    "\t\telse: return('O3')\n",
    "\telse:\n",
    "\t\tif pantone_hex.hue[i] in range(10): return('R1')\n",
    "\t\telif pantone_hex.hue[i] in range(10,20): return('R2')\n",
    "\t\telse: return('R3')\n",
    "        \n",
    "\n",
    "# Create list of hue sub groups\n",
    "hsg=[]\n",
    "for i in range(len(pantone_hex.hue)):\n",
    "    hsg.append(hue_sub_group(i))\n",
    "\n",
    "# Add the colour groups to dataframe\n",
    "pantone_hex['hue_sub_group']=hsg"
   ]
  },
  {
   "cell_type": "code",
   "execution_count": 15,
   "metadata": {},
   "outputs": [],
   "source": [
    "# Define the lightness groups for each Hue\n",
    "# checking the index of descriptive string values did not give appropriate results, so switching to sequential tags\n",
    "\n",
    "def lightness_group(i):\n",
    "    if   pantone_hex.lightness[i]>=80 : return int(1)\n",
    "    elif pantone_hex.lightness[i] in range(60 , 80) : return int(2)\n",
    "    elif pantone_hex.lightness[i] in range(40 , 60) : return int(3)\n",
    "    elif pantone_hex.lightness[i] in range(20 , 40) : return int(4)\n",
    "    else: return int(5)\n",
    "\n",
    "# Create list of colour groups\n",
    "lg=[]\n",
    "for i in range(len(pantone_hex.hue)):\n",
    "    lg.append(lightness_group(i))\n",
    "\n",
    "# Add the colour groups to dataframe\n",
    "pantone_hex['lightness_group']=lg"
   ]
  },
  {
   "cell_type": "code",
   "execution_count": 16,
   "metadata": {},
   "outputs": [],
   "source": [
    "# Define the saturation groups for each Hue\n",
    "# checking the index of descriptive string values did not give appropriate results, so switching to sequential tags\n",
    "\n",
    "def saturation_group(i):\n",
    "    if   pantone_hex.saturation[i]>=80 : return int(1)\n",
    "    elif pantone_hex.saturation[i] in range(60 , 80) : return int(2)\n",
    "    elif pantone_hex.saturation[i] in range(40 , 60) : return int(3)\n",
    "    elif pantone_hex.saturation[i] in range(20 , 40) : return int(4)\n",
    "    else: return int(5)\n",
    "\n",
    "# Create list of colour groups\n",
    "sg=[]\n",
    "for i in range(len(pantone_hex.hue)):\n",
    "    sg.append(saturation_group(i))\n",
    "\n",
    "# Add the colour groups to dataframe\n",
    "pantone_hex['saturation_group']=sg"
   ]
  },
  {
   "cell_type": "code",
   "execution_count": 18,
   "metadata": {},
   "outputs": [],
   "source": [
    "# Merging colour property groups with products\n",
    "\n",
    "prods_new = pd.merge(prods, pantone_hex, left_on='colour_pantone', right_on='Pantone', how='left').drop(columns='Pantone')"
   ]
  },
  {
   "cell_type": "code",
   "execution_count": 19,
   "metadata": {
    "scrolled": true
   },
   "outputs": [
    {
     "data": {
      "text/html": [
       "<div>\n",
       "<style scoped>\n",
       "    .dataframe tbody tr th:only-of-type {\n",
       "        vertical-align: middle;\n",
       "    }\n",
       "\n",
       "    .dataframe tbody tr th {\n",
       "        vertical-align: top;\n",
       "    }\n",
       "\n",
       "    .dataframe thead th {\n",
       "        text-align: right;\n",
       "    }\n",
       "</style>\n",
       "<table border=\"1\" class=\"dataframe\">\n",
       "  <thead>\n",
       "    <tr style=\"text-align: right;\">\n",
       "      <th></th>\n",
       "      <th>sku</th>\n",
       "      <th>product_name</th>\n",
       "      <th>edition</th>\n",
       "      <th>season</th>\n",
       "      <th>colour_pantone</th>\n",
       "      <th>smell_code</th>\n",
       "      <th>Hex</th>\n",
       "      <th>hue</th>\n",
       "      <th>saturation</th>\n",
       "      <th>lightness</th>\n",
       "      <th>hue_group</th>\n",
       "      <th>hue_sub_group</th>\n",
       "      <th>lightness_group</th>\n",
       "      <th>saturation_group</th>\n",
       "    </tr>\n",
       "  </thead>\n",
       "  <tbody>\n",
       "    <tr>\n",
       "      <td>0</td>\n",
       "      <td>10101DE</td>\n",
       "      <td>Cookies &amp; Cream</td>\n",
       "      <td>classic</td>\n",
       "      <td>all_year</td>\n",
       "      <td>7506C</td>\n",
       "      <td>18123F</td>\n",
       "      <td>EFDBB2</td>\n",
       "      <td>40.0</td>\n",
       "      <td>66.0</td>\n",
       "      <td>82.0</td>\n",
       "      <td>Oranges</td>\n",
       "      <td>O2</td>\n",
       "      <td>1.0</td>\n",
       "      <td>2.0</td>\n",
       "    </tr>\n",
       "    <tr>\n",
       "      <td>1</td>\n",
       "      <td>10101DE-L</td>\n",
       "      <td>Cookies &amp; Cream</td>\n",
       "      <td>classic</td>\n",
       "      <td>all_year</td>\n",
       "      <td>7506C</td>\n",
       "      <td>18123F</td>\n",
       "      <td>EFDBB2</td>\n",
       "      <td>40.0</td>\n",
       "      <td>66.0</td>\n",
       "      <td>82.0</td>\n",
       "      <td>Oranges</td>\n",
       "      <td>O2</td>\n",
       "      <td>1.0</td>\n",
       "      <td>2.0</td>\n",
       "    </tr>\n",
       "    <tr>\n",
       "      <td>2</td>\n",
       "      <td>10101DE-M</td>\n",
       "      <td>Cookies &amp; Cream</td>\n",
       "      <td>classic</td>\n",
       "      <td>all_year</td>\n",
       "      <td>7506C</td>\n",
       "      <td>18123F</td>\n",
       "      <td>EFDBB2</td>\n",
       "      <td>40.0</td>\n",
       "      <td>66.0</td>\n",
       "      <td>82.0</td>\n",
       "      <td>Oranges</td>\n",
       "      <td>O2</td>\n",
       "      <td>1.0</td>\n",
       "      <td>2.0</td>\n",
       "    </tr>\n",
       "    <tr>\n",
       "      <td>3</td>\n",
       "      <td>10101DE-S</td>\n",
       "      <td>Cookies &amp; Cream</td>\n",
       "      <td>classic</td>\n",
       "      <td>all_year</td>\n",
       "      <td>7506C</td>\n",
       "      <td>18123F</td>\n",
       "      <td>EFDBB2</td>\n",
       "      <td>40.0</td>\n",
       "      <td>66.0</td>\n",
       "      <td>82.0</td>\n",
       "      <td>Oranges</td>\n",
       "      <td>O2</td>\n",
       "      <td>1.0</td>\n",
       "      <td>2.0</td>\n",
       "    </tr>\n",
       "    <tr>\n",
       "      <td>4</td>\n",
       "      <td>10101FR</td>\n",
       "      <td>Cookies &amp; Cream</td>\n",
       "      <td>classic</td>\n",
       "      <td>all_year</td>\n",
       "      <td>7506C</td>\n",
       "      <td>18123F</td>\n",
       "      <td>EFDBB2</td>\n",
       "      <td>40.0</td>\n",
       "      <td>66.0</td>\n",
       "      <td>82.0</td>\n",
       "      <td>Oranges</td>\n",
       "      <td>O2</td>\n",
       "      <td>1.0</td>\n",
       "      <td>2.0</td>\n",
       "    </tr>\n",
       "  </tbody>\n",
       "</table>\n",
       "</div>"
      ],
      "text/plain": [
       "         sku     product_name  edition    season colour_pantone smell_code  \\\n",
       "0    10101DE  Cookies & Cream  classic  all_year          7506C     18123F   \n",
       "1  10101DE-L  Cookies & Cream  classic  all_year          7506C     18123F   \n",
       "2  10101DE-M  Cookies & Cream  classic  all_year          7506C     18123F   \n",
       "3  10101DE-S  Cookies & Cream  classic  all_year          7506C     18123F   \n",
       "4    10101FR  Cookies & Cream  classic  all_year          7506C     18123F   \n",
       "\n",
       "      Hex   hue  saturation  lightness hue_group hue_sub_group  \\\n",
       "0  EFDBB2  40.0        66.0       82.0   Oranges            O2   \n",
       "1  EFDBB2  40.0        66.0       82.0   Oranges            O2   \n",
       "2  EFDBB2  40.0        66.0       82.0   Oranges            O2   \n",
       "3  EFDBB2  40.0        66.0       82.0   Oranges            O2   \n",
       "4  EFDBB2  40.0        66.0       82.0   Oranges            O2   \n",
       "\n",
       "   lightness_group  saturation_group  \n",
       "0              1.0               2.0  \n",
       "1              1.0               2.0  \n",
       "2              1.0               2.0  \n",
       "3              1.0               2.0  \n",
       "4              1.0               2.0  "
      ]
     },
     "execution_count": 19,
     "metadata": {},
     "output_type": "execute_result"
    }
   ],
   "source": [
    "prods_new.head()"
   ]
  },
  {
   "cell_type": "code",
   "execution_count": 208,
   "metadata": {},
   "outputs": [
    {
     "data": {
      "text/plain": [
       "Index(['sku', 'product_name', 'edition', 'season', 'colour_pantone',\n",
       "       'smell_code', 'Hex', 'hue', 'saturation', 'lightness', 'hue_group',\n",
       "       'hue_sub_group', 'lightness_group', 'saturation_group'],\n",
       "      dtype='object')"
      ]
     },
     "execution_count": 208,
     "metadata": {},
     "output_type": "execute_result"
    }
   ],
   "source": [
    "prods_new.columns"
   ]
  },
  {
   "cell_type": "code",
   "execution_count": 20,
   "metadata": {},
   "outputs": [
    {
     "data": {
      "text/html": [
       "<div>\n",
       "<style scoped>\n",
       "    .dataframe tbody tr th:only-of-type {\n",
       "        vertical-align: middle;\n",
       "    }\n",
       "\n",
       "    .dataframe tbody tr th {\n",
       "        vertical-align: top;\n",
       "    }\n",
       "\n",
       "    .dataframe thead th {\n",
       "        text-align: right;\n",
       "    }\n",
       "</style>\n",
       "<table border=\"1\" class=\"dataframe\">\n",
       "  <thead>\n",
       "    <tr style=\"text-align: right;\">\n",
       "      <th></th>\n",
       "      <th>product_name</th>\n",
       "      <th>Hex</th>\n",
       "      <th>hue</th>\n",
       "      <th>saturation</th>\n",
       "      <th>lightness</th>\n",
       "      <th>hue_group</th>\n",
       "      <th>hue_sub_group</th>\n",
       "      <th>lightness_group</th>\n",
       "      <th>saturation_group</th>\n",
       "    </tr>\n",
       "  </thead>\n",
       "  <tbody>\n",
       "    <tr>\n",
       "      <td>0</td>\n",
       "      <td>Cookies &amp; Cream</td>\n",
       "      <td>EFDBB2</td>\n",
       "      <td>40.0</td>\n",
       "      <td>66.0</td>\n",
       "      <td>82.0</td>\n",
       "      <td>Oranges</td>\n",
       "      <td>O2</td>\n",
       "      <td>1.0</td>\n",
       "      <td>2.0</td>\n",
       "    </tr>\n",
       "    <tr>\n",
       "      <td>1</td>\n",
       "      <td>Cookies &amp; Cream</td>\n",
       "      <td>EFDBB2</td>\n",
       "      <td>40.0</td>\n",
       "      <td>66.0</td>\n",
       "      <td>82.0</td>\n",
       "      <td>Oranges</td>\n",
       "      <td>O2</td>\n",
       "      <td>1.0</td>\n",
       "      <td>2.0</td>\n",
       "    </tr>\n",
       "    <tr>\n",
       "      <td>2</td>\n",
       "      <td>Cookies &amp; Cream</td>\n",
       "      <td>EFDBB2</td>\n",
       "      <td>40.0</td>\n",
       "      <td>66.0</td>\n",
       "      <td>82.0</td>\n",
       "      <td>Oranges</td>\n",
       "      <td>O2</td>\n",
       "      <td>1.0</td>\n",
       "      <td>2.0</td>\n",
       "    </tr>\n",
       "    <tr>\n",
       "      <td>3</td>\n",
       "      <td>Cookies &amp; Cream</td>\n",
       "      <td>EFDBB2</td>\n",
       "      <td>40.0</td>\n",
       "      <td>66.0</td>\n",
       "      <td>82.0</td>\n",
       "      <td>Oranges</td>\n",
       "      <td>O2</td>\n",
       "      <td>1.0</td>\n",
       "      <td>2.0</td>\n",
       "    </tr>\n",
       "    <tr>\n",
       "      <td>4</td>\n",
       "      <td>Cookies &amp; Cream</td>\n",
       "      <td>EFDBB2</td>\n",
       "      <td>40.0</td>\n",
       "      <td>66.0</td>\n",
       "      <td>82.0</td>\n",
       "      <td>Oranges</td>\n",
       "      <td>O2</td>\n",
       "      <td>1.0</td>\n",
       "      <td>2.0</td>\n",
       "    </tr>\n",
       "  </tbody>\n",
       "</table>\n",
       "</div>"
      ],
      "text/plain": [
       "      product_name     Hex   hue  saturation  lightness hue_group  \\\n",
       "0  Cookies & Cream  EFDBB2  40.0        66.0       82.0   Oranges   \n",
       "1  Cookies & Cream  EFDBB2  40.0        66.0       82.0   Oranges   \n",
       "2  Cookies & Cream  EFDBB2  40.0        66.0       82.0   Oranges   \n",
       "3  Cookies & Cream  EFDBB2  40.0        66.0       82.0   Oranges   \n",
       "4  Cookies & Cream  EFDBB2  40.0        66.0       82.0   Oranges   \n",
       "\n",
       "  hue_sub_group  lightness_group  saturation_group  \n",
       "0            O2              1.0               2.0  \n",
       "1            O2              1.0               2.0  \n",
       "2            O2              1.0               2.0  \n",
       "3            O2              1.0               2.0  \n",
       "4            O2              1.0               2.0  "
      ]
     },
     "execution_count": 20,
     "metadata": {},
     "output_type": "execute_result"
    }
   ],
   "source": [
    "prods_new[['product_name', 'Hex', 'hue', 'saturation', 'lightness', 'hue_group',\\\n",
    "           'hue_sub_group', 'lightness_group', 'saturation_group']].head()"
   ]
  },
  {
   "cell_type": "markdown",
   "metadata": {},
   "source": [
    "### Euclidean distance formula\n",
    "\n",
    "\n",
    "<img src=\"https://wikimedia.org/api/rest_v1/media/math/render/svg/b48fad52918eb76d14c4f17973ae210f7c1a6312\" alt=\"Euclidean distance formula\" style=\"width: 500px;\"/>\n",
    "\n",
    "where p and q are 2 points on the same plane.\n",
    "\n",
    "Here, the distance has to be calculated between two colours in the HSL space which is in a cylindrical format. And for doing so the angular values(Hue) need to be converted first.\n",
    "\n",
    "<img src=\"https://upload.wikimedia.org/wikipedia/commons/1/16/Hsl-hsv_models_b.svg\" alt=\"Euclidean distance formula\" style=\"width: 500px;\"/>"
   ]
  },
  {
   "cell_type": "code",
   "execution_count": 21,
   "metadata": {},
   "outputs": [],
   "source": [
    "# Calculate euclidean distance between 2 colours based on their Hue, Saturation and Lightness values. \n",
    "# Assuming the colour model lies within the same colour space.\n",
    "\n",
    "def colour_dist(x, y):\n",
    "    import numpy as np\n",
    "    dist = np.sqrt((x['saturation']*np.cos(x['hue']) - y['saturation']*np.cos(y['hue']))**2 +\\\n",
    "    (x['saturation']*np.sin(x['hue']) - y['saturation']*np.sin(y['hue']))**2 +\\\n",
    "    (x['lightness'] - y['lightness'])**2)\n",
    "    return dist"
   ]
  },
  {
   "cell_type": "markdown",
   "metadata": {},
   "source": [
    "### Different methods of finding similar colours\n"
   ]
  },
  {
   "cell_type": "markdown",
   "metadata": {},
   "source": [
    "#### Method 1\n",
    "\n",
    "Here I am trying to directly compare the Hue, Saturation and Lightness values of a colour with another to check how close the colours are. This is done by slowly incresing the range of the HSL values within which the colours are compared. The top 5-10 colours are retrieved depending on the retreival from the HSL ranges.\n",
    "\n",
    "#### Method 2\n",
    "\n",
    "Here the distance between the colours are checked using the Euclidean distance formula. The top 5-10 colours based on the closeness to the primary colour is retrieved based on the distance calculated.\n",
    "\n",
    "#### Method 3\n",
    "\n",
    "Here the concept of L1 distance is used to check the distance between the colours since the colours lie within a cylindrical environment. The top 5-10 colours based on the closeness to the primary colour is retrieved based on the distance calculated."
   ]
  },
  {
   "cell_type": "code",
   "execution_count": 22,
   "metadata": {},
   "outputs": [],
   "source": [
    "### Method 1 -  filter based on Hue, Saturation and Lightness values of the colour\n",
    "\n",
    "# Get list of similar looking candles based on colour parameters and main candle\n",
    "\n",
    "def col_rec(candle, col_list, h1, h2, l1, l2, s1, s2):\n",
    "    R = prods_new[col_list][(prods_new.product_name!=candle)\n",
    "#                             &\n",
    "#                         (\n",
    "#                             prods_new.hue_group.isin(list(prods_new.hue_group[prods_new.product_name==candle].unique()))\n",
    "#                         )\n",
    "#                         &\n",
    "                            &\n",
    "                        (prods_new.hue.isin(list(range(int(prods_new.hue[prods_new.product_name==candle].unique())-h1, \n",
    "                                                       int(prods_new.hue[prods_new.product_name==candle].unique())+h2)\n",
    "                                                ))\n",
    "                        )&\n",
    "                        (\n",
    "                            (prods_new.lightness_group.isin(list(range\n",
    "                                                (int(prods_new.lightness_group[prods_new.product_name==candle].unique())-l1,\n",
    "                                                 int(prods_new.lightness_group[prods_new.product_name==candle].unique())+l2)\n",
    "                            )))&\n",
    "                            (prods_new.saturation_group.isin(list(range\n",
    "                                                (int(prods_new.saturation_group[prods_new.product_name==candle].unique())-s1,\n",
    "                                                 int(prods_new.saturation_group[prods_new.product_name==candle].unique())+s2)\n",
    "                            ))))\n",
    "                            ].drop_duplicates(subset =\"product_name\").sort_values(by=['hue']).reset_index(drop=True)\n",
    "    return(R)\n",
    "\n",
    "##=======================================================================================##\n",
    "## Dynamically increase parameter values based on the number of recommended candles retreived\n",
    "## Logic needs tweaking.\n",
    "\n",
    "def M_1(candle, col_list, len_recc=5):\n",
    "    #len_recc=5\n",
    "    h1=1\n",
    "    h2=2\n",
    "    l1=1\n",
    "    l2=2\n",
    "    s1=1\n",
    "    s2=2\n",
    "\n",
    "    R1 = col_rec(candle, col_list, h1=h1, h2=h2, l1=l1, l2=l2, s1=s1, s2=s2)\n",
    "\n",
    "    while len(R1)<len_recc:\n",
    "        h1+=1\n",
    "        h2+=1\n",
    "    \n",
    "### Add logic to increase range of lightness and saturation based if hue range increases after a set threshold\n",
    "        if h1>5 & h2>5:\n",
    "            l1=2\n",
    "            l2=3\n",
    "            s1=2\n",
    "            s2=3\n",
    "        elif h1>10 & h2>10:\n",
    "            l1=3\n",
    "            l2=4\n",
    "            s1=3\n",
    "            s2=4\n",
    "    ##\n",
    "    ##\n",
    "    \n",
    "        t1 = col_rec(candle, col_list, h1=h1, h2=h2, l1=l1, l2=l2, s1=s1, s2=s2).head(len_recc-len(R1))\n",
    "        R1=R1.append(t1[~t1.product_name.isin(list(R1.product_name.unique()))]).reset_index(drop=True)\n",
    "                #sort_values(by=['hue','saturation'], ascending=False).reset_index(drop=True)\n",
    "\n",
    "    return(R1)"
   ]
  },
  {
   "cell_type": "code",
   "execution_count": 32,
   "metadata": {},
   "outputs": [],
   "source": [
    "### Method 2 -  Euclidean distance between 2 colours based on Hue, Saturation and Lightness values of the colour\n",
    "\n",
    "def euc_dist_recommend(candle, col_list):\n",
    "    col_list_tmp = col_list.copy()\n",
    "    \n",
    "    # Main Candle\n",
    "    \n",
    "    x=prods_new[col_list_tmp][prods_new.product_name==candle].\\\n",
    "                drop_duplicates(subset =\"product_name\").sort_values\\\n",
    "                (by=['hue', 'saturation', 'lightness']).reset_index(drop=True)\n",
    "\n",
    "#  get candles within set hue range for candles recommendation\n",
    "    test_df = prods_new[col_list_tmp]\\\n",
    "                [(prods_new.product_name!=candle)&\n",
    "                 (prods_new.hue.isin(\n",
    "                     list(range(int(prods_new.hue[prods_new.product_name==candle].unique())-25, \n",
    "                                int(prods_new.hue[prods_new.product_name==candle].unique())+26\n",
    "                               )\n",
    "                         ) # Hue range has been preset so that the colour difference does not vary too much\n",
    "                 ))&\n",
    "                 (prods_new.hue.notna())\n",
    "                ].drop_duplicates(subset =\"product_name\").sort_values(\\\n",
    "        by=['hue', 'saturation', 'lightness']).reset_index(drop=True)\n",
    "\n",
    "    # Get list of recommended candles based on euclidean distance of colours\n",
    "    \n",
    "    rows_list = []   # Create empty list to add rows to later convert to pandas dataframe\n",
    "    for p in test_df.product_name:\n",
    "        \n",
    "        dict1 = {}   # Create empty dictionary\n",
    "        dict1.update({'product_name':list(test_df.product_name[test_df.product_name==p])[0],\n",
    "                      'Hex':list(test_df.Hex[test_df.product_name==p])[0],\n",
    "                      'hue':list(test_df.hue[test_df.product_name==p])[0],\n",
    "                      'lightness':list(test_df.lightness[test_df.product_name==p])[0],\n",
    "                      'saturation':list(test_df.saturation[test_df.product_name==p])[0],\n",
    "                      'dist':list(round(colour_dist(x,test_df[test_df.product_name==p].reset_index(drop=True)),2))[0]\n",
    "                    }) # Generate dictionary of products along with the calculated distance between the main product and the \n",
    "        rows_list.append(dict1) # Append the dictionary generated above into the empty list created previously\n",
    "    col_list_tmp.append('dist') # Add new column name 'dist'\n",
    "    df = pd.DataFrame(rows_list, columns=col_list_tmp).sort_values(by='dist').reset_index(drop=True)\n",
    "\n",
    "    return df.head(10) # Number of products set to 10. Can be modified to incoporate dynamic values."
   ]
  },
  {
   "cell_type": "code",
   "execution_count": 24,
   "metadata": {},
   "outputs": [],
   "source": [
    "### Method 3 : L1 distance\n",
    "\n",
    "# Function to calculate the L1 distance between two colours\n",
    "\n",
    "def l1_dist(c1, c2):\n",
    "    r1=prods_new.saturation[prods_new.product_name==c1].unique()[0]\n",
    "    r2=prods_new.saturation[prods_new.product_name==c2].unique()[0]\n",
    "\n",
    "    t1=prods_new.hue[prods_new.product_name==c1].unique()[0]\n",
    "    t2=prods_new.hue[prods_new.product_name==c2].unique()[0]\n",
    "\n",
    "    z1=prods_new.lightness[prods_new.product_name==c1].unique()[0]\n",
    "    z2=prods_new.lightness[prods_new.product_name==c2].unique()[0]\n",
    "\n",
    "    if (t2-t1)<180:\n",
    "        T=(t2-t1)\n",
    "    else:\n",
    "        T=(360-t2)+t1\n",
    "\n",
    "    R=abs(r2-r1)\n",
    "    L=abs(z2-z1)\n",
    "\n",
    "    c_dist = R +min(r2,r1) * math.radians(T)+L\n",
    "\n",
    "    return(round(np.abs(c_dist),2))\n",
    "\n",
    "\n",
    "##=============================================================##\n",
    "## Function to give recommended candles based on L1 distance\n",
    "\n",
    "def l1_dist_recom(candle, col_list):\n",
    "    col_list_tmp = col_list.copy()\n",
    "    \n",
    "    # Main Candle\n",
    "    \n",
    "    x=prods_new[col_list_tmp][prods_new.product_name==candle].\\\n",
    "    drop_duplicates(subset =\"product_name\").sort_values\\\n",
    "    (by=['hue', 'saturation', 'lightness']).reset_index(drop=True)\n",
    "    #  get candles within set hue range for candles recommendation\n",
    "    test_df = prods_new[col_list_tmp]\\\n",
    "                [(prods_new.product_name!=candle)&\n",
    "                 (prods_new.hue.isin(\n",
    "#                      list(prods_new.hue.unique())\n",
    "                     list(prods_new.hue.unique()\n",
    "#                          range(int(prods_new.hue[prods_new.product_name==candle].unique())-25, \n",
    "#                                 int(prods_new.hue[prods_new.product_name==candle].unique())+26\n",
    "#                                )\n",
    "                         )\n",
    "                 )\n",
    "                 )&(prods_new.hue.notna())\n",
    "                ].drop_duplicates(subset =\"product_name\").sort_values(\\\n",
    "        by=['hue', 'saturation', 'lightness']).reset_index(drop=True)\n",
    "    \n",
    "    # Get list of recommended candles based on euclidean distance of colours\n",
    "    rows_list = []\n",
    "    for p in test_df.product_name:\n",
    "        #print(test_df[test_df.product_name==p].reset_index(drop=True))\n",
    "        dict1 = {}\n",
    "        dict1.update({'product_name':list(test_df.product_name[test_df.product_name==p])[0],\n",
    "                      'Hex':list(test_df.Hex[test_df.product_name==p])[0],\n",
    "                    'hue':list(test_df.hue[test_df.product_name==p])[0],\n",
    "                    'lightness':list(test_df.lightness[test_df.product_name==p])[0],\n",
    "                    'saturation':list(test_df.saturation[test_df.product_name==p])[0],\n",
    "                    'dist':[round(l1_dist(x.product_name[0],p), 2)][0]\n",
    "                    }) \n",
    "        rows_list.append(dict1)\n",
    "    col_list_tmp.append('dist')\n",
    "    df = pd.DataFrame(rows_list, columns=col_list_tmp).sort_values(by='dist').reset_index(drop=True)\n",
    "\n",
    "    return df.head(10)"
   ]
  },
  {
   "cell_type": "markdown",
   "metadata": {},
   "source": [
    "### Testing the 3 methods"
   ]
  },
  {
   "cell_type": "code",
   "execution_count": 25,
   "metadata": {},
   "outputs": [],
   "source": [
    "candle=\"Toffee Delight\"\n",
    "col_list=['product_name', 'Hex','hue', 'lightness', 'saturation']"
   ]
  },
  {
   "cell_type": "code",
   "execution_count": 30,
   "metadata": {},
   "outputs": [
    {
     "name": "stdout",
     "output_type": "stream",
     "text": [
      "Original - \n",
      "      product_name     Hex   hue  lightness  saturation\n",
      "0  Toffee Delight  E0E721  62.0       52.0        80.0\n",
      "Recommendation\n",
      "           product_name     Hex   hue  lightness  saturation\n",
      "0        Fresh Lemonade  B7BF10  63.0       41.0        85.0\n",
      "1          Happy Summer  E1E000  60.0       44.0       100.0\n",
      "2         Passion Fruit  F3E500  57.0       48.0       100.0\n",
      "3  Mango Melon Smoothie  FFB500  43.0       50.0       100.0\n",
      "4           Magic Melon  FFB500  43.0       50.0       100.0\n",
      "5           Sweet Angel  FFC845  42.0       64.0       100.0\n",
      "6        Tropical Peach  FDD26E  42.0       71.0        97.0\n",
      "7   You Are My Sunshine  FDD26E  42.0       71.0        97.0\n",
      "8          Jingle Bells  CC8A00  41.0       40.0       100.0\n",
      "9        Crispy Popcorn  FFBF3F  40.0       62.0       100.0\n"
     ]
    },
    {
     "data": {
      "image/png": "[encoded data removed]",
      "text/plain": [
       "<Figure size 72x72 with 1 Axes>"
      ]
     },
     "metadata": {},
     "output_type": "display_data"
    },
    {
     "data": {
      "image/png": "[encoded data removed]",
      "text/plain": [
       "<Figure size 720x72 with 1 Axes>"
      ]
     },
     "metadata": {},
     "output_type": "display_data"
    }
   ],
   "source": [
    "## Method 1 - Comparing colours by checking values of their colour properties.\n",
    "\n",
    "method_1 = M_1(candle, col_list, len_recc=10)\n",
    "print('Original - \\n', prods_new[col_list][prods_new.product_name==candle].\\\n",
    "    drop_duplicates(subset =\"product_name\").sort_values\\\n",
    "    (by=['hue', 'saturation', 'lightness']).reset_index(drop=True)) \n",
    "sns.palplot(list(map(hex_to_rgb, prods_new.Hex[prods_new.product_name==candle].unique().tolist())))\n",
    "print('Recommendation')\n",
    "sns.palplot(list(map(hex_to_rgb, list(_recom_sort(method_1, candle).Hex))))\n",
    "print(_recom_sort(method_1, candle))\n",
    "\n",
    "\n",
    "## This method needs more tweaking in the logic."
   ]
  },
  {
   "cell_type": "code",
   "execution_count": 33,
   "metadata": {},
   "outputs": [
    {
     "name": "stdout",
     "output_type": "stream",
     "text": [
      "Original - \n",
      "      product_name     Hex   hue  lightness  saturation\n",
      "0  Toffee Delight  E0E721  62.0       52.0        80.0\n",
      "Recommendation\n",
      "           product_name     Hex   hue  lightness  saturation    dist\n",
      "0        Fresh Lemonade  B7BF10  63.0       41.0        85.0   79.99\n",
      "1         Passion Fruit  F3E500  57.0       48.0       100.0  108.98\n",
      "2          Happy Easter  F1E6B2  50.0       82.0        69.0   52.39\n",
      "3          Marzipan Joy  F1E6B2  50.0       82.0        69.0   52.39\n",
      "4           Magic Melon  FFB500  43.0       50.0       100.0   24.18\n",
      "5  Mango Melon Smoothie  FFB500  43.0       50.0       100.0   24.18\n",
      "6        Pear Ice Cream  C4D6A4  82.0       74.0        38.0   76.46\n",
      "7   You Are My Sunshine  FDD26E  42.0       71.0        97.0   99.18\n",
      "8        Tropical Peach  FDD26E  42.0       71.0        97.0   99.18\n",
      "9           Sweet Angel  FFC845  42.0       64.0       100.0  100.07\n"
     ]
    },
    {
     "data": {
      "image/png": "[encoded data removed]",
      "text/plain": [
       "<Figure size 72x72 with 1 Axes>"
      ]
     },
     "metadata": {},
     "output_type": "display_data"
    },
    {
     "data": {
      "image/png": "[encoded data removed]",
      "text/plain": [
       "<Figure size 720x72 with 1 Axes>"
      ]
     },
     "metadata": {},
     "output_type": "display_data"
    }
   ],
   "source": [
    "## Method 2 - Compare the euclidean distance between the candles\n",
    "\n",
    "method_2 = euc_dist_recommend(candle, col_list)\n",
    "# print(edr)\n",
    "print('Original - \\n', prods_new[col_list][prods_new.product_name==candle].\\\n",
    "    drop_duplicates(subset =\"product_name\").sort_values\\\n",
    "    (by=['hue', 'saturation', 'lightness']).reset_index(drop=True)) \n",
    "sns.palplot(list(map(hex_to_rgb, prods_new.Hex[prods_new.product_name==candle].unique().tolist())))\n",
    "print('Recommendation')\n",
    "sns.palplot(list(map(hex_to_rgb, list(_recom_sort(method_2, candle).Hex))))\n",
    "print(_recom_sort(method_2, candle))"
   ]
  },
  {
   "cell_type": "code",
   "execution_count": 108,
   "metadata": {},
   "outputs": [
    {
     "name": "stdout",
     "output_type": "stream",
     "text": [
      "Original - \n",
      "      product_name     Hex   hue  lightness  saturation\n",
      "0  Toffee Delight  E0E721  62.0       52.0        80.0\n",
      "Recommendation\n",
      "           product_name     Hex   hue  lightness  saturation  dist\n",
      "0  Mango Melon Smoothie  FFB500  43.0       50.0       100.0  4.53\n",
      "1           Magic Melon  FFB500  43.0       50.0       100.0  4.53\n",
      "2           Sweet Angel  FFC845  42.0       64.0       100.0  4.07\n",
      "3          Jingle Bells  CC8A00  41.0       40.0       100.0  2.68\n",
      "4       Soft Sandalwood  FFBF3F  40.0       62.0       100.0  0.72\n",
      "5        Crispy Popcorn  FFBF3F  40.0       62.0       100.0  0.72\n",
      "6         Sangria Party  FECB8B  33.0       77.0        98.0  2.51\n",
      "7           La-la Llama  EDC8A3  30.0       78.0        67.0  1.58\n",
      "8       Sweet Chocolate  73381D  19.0       28.0        60.0  1.03\n",
      "9           Gingerbread  81312F   1.0       35.0        47.0  0.04\n"
     ]
    },
    {
     "data": {
      "image/png": "[encoded data removed]",
      "text/plain": [
       "<Figure size 72x72 with 1 Axes>"
      ]
     },
     "metadata": {
      "needs_background": "light"
     },
     "output_type": "display_data"
    },
    {
     "data": {
      "image/png": "[encoded data removed]",
      "text/plain": [
       "<Figure size 720x72 with 1 Axes>"
      ]
     },
     "metadata": {
      "needs_background": "light"
     },
     "output_type": "display_data"
    }
   ],
   "source": [
    "## Method 3 - Checking the L1 distance between the candles\n",
    "\n",
    "method_3 = l1_dist_recom(candle, col_list)\n",
    "\n",
    "print('Original - \\n', prods_new[col_list][prods_new.product_name==candle].\\\n",
    "    drop_duplicates(subset =\"product_name\").sort_values\\\n",
    "    (by=['hue', 'saturation', 'lightness']).reset_index(drop=True)) \n",
    "sns.palplot(list(map(hex_to_rgb, prods_new.Hex[prods_new.product_name==candle].unique().tolist())))\n",
    "\n",
    "print('Recommendation')\n",
    "sns.palplot(list(map(hex_to_rgb, list(_recom_sort(method_3, candle).Hex))))\n",
    "print(_recom_sort(method_3, candle))\n",
    "\n",
    "##### There seems to be some mistake in the formula to calculate the distance."
   ]
  },
  {
   "cell_type": "code",
   "execution_count": 90,
   "metadata": {},
   "outputs": [
    {
     "data": {
      "text/html": [
       "<div>\n",
       "<style scoped>\n",
       "    .dataframe tbody tr th:only-of-type {\n",
       "        vertical-align: middle;\n",
       "    }\n",
       "\n",
       "    .dataframe tbody tr th {\n",
       "        vertical-align: top;\n",
       "    }\n",
       "\n",
       "    .dataframe thead th {\n",
       "        text-align: right;\n",
       "    }\n",
       "</style>\n",
       "<table border=\"1\" class=\"dataframe\">\n",
       "  <thead>\n",
       "    <tr style=\"text-align: right;\">\n",
       "      <th></th>\n",
       "      <th>product_name</th>\n",
       "      <th>Hex</th>\n",
       "      <th>hue</th>\n",
       "      <th>lightness</th>\n",
       "      <th>saturation</th>\n",
       "      <th>dist</th>\n",
       "    </tr>\n",
       "  </thead>\n",
       "  <tbody>\n",
       "    <tr>\n",
       "      <td>0</td>\n",
       "      <td>Mango Melon Smoothie</td>\n",
       "      <td>FFB500</td>\n",
       "      <td>43.0</td>\n",
       "      <td>50.0</td>\n",
       "      <td>100.0</td>\n",
       "      <td>4.53</td>\n",
       "    </tr>\n",
       "    <tr>\n",
       "      <td>1</td>\n",
       "      <td>Magic Melon</td>\n",
       "      <td>FFB500</td>\n",
       "      <td>43.0</td>\n",
       "      <td>50.0</td>\n",
       "      <td>100.0</td>\n",
       "      <td>4.53</td>\n",
       "    </tr>\n",
       "    <tr>\n",
       "      <td>2</td>\n",
       "      <td>Sweet Angel</td>\n",
       "      <td>FFC845</td>\n",
       "      <td>42.0</td>\n",
       "      <td>64.0</td>\n",
       "      <td>100.0</td>\n",
       "      <td>4.07</td>\n",
       "    </tr>\n",
       "    <tr>\n",
       "      <td>3</td>\n",
       "      <td>Jingle Bells</td>\n",
       "      <td>CC8A00</td>\n",
       "      <td>41.0</td>\n",
       "      <td>40.0</td>\n",
       "      <td>100.0</td>\n",
       "      <td>2.68</td>\n",
       "    </tr>\n",
       "    <tr>\n",
       "      <td>4</td>\n",
       "      <td>Soft Sandalwood</td>\n",
       "      <td>FFBF3F</td>\n",
       "      <td>40.0</td>\n",
       "      <td>62.0</td>\n",
       "      <td>100.0</td>\n",
       "      <td>0.72</td>\n",
       "    </tr>\n",
       "    <tr>\n",
       "      <td>5</td>\n",
       "      <td>Crispy Popcorn</td>\n",
       "      <td>FFBF3F</td>\n",
       "      <td>40.0</td>\n",
       "      <td>62.0</td>\n",
       "      <td>100.0</td>\n",
       "      <td>0.72</td>\n",
       "    </tr>\n",
       "    <tr>\n",
       "      <td>6</td>\n",
       "      <td>Sangria Party</td>\n",
       "      <td>FECB8B</td>\n",
       "      <td>33.0</td>\n",
       "      <td>77.0</td>\n",
       "      <td>98.0</td>\n",
       "      <td>2.51</td>\n",
       "    </tr>\n",
       "    <tr>\n",
       "      <td>7</td>\n",
       "      <td>La-la Llama</td>\n",
       "      <td>EDC8A3</td>\n",
       "      <td>30.0</td>\n",
       "      <td>78.0</td>\n",
       "      <td>67.0</td>\n",
       "      <td>1.58</td>\n",
       "    </tr>\n",
       "    <tr>\n",
       "      <td>8</td>\n",
       "      <td>Sweet Chocolate</td>\n",
       "      <td>73381D</td>\n",
       "      <td>19.0</td>\n",
       "      <td>28.0</td>\n",
       "      <td>60.0</td>\n",
       "      <td>1.03</td>\n",
       "    </tr>\n",
       "    <tr>\n",
       "      <td>9</td>\n",
       "      <td>Gingerbread</td>\n",
       "      <td>81312F</td>\n",
       "      <td>1.0</td>\n",
       "      <td>35.0</td>\n",
       "      <td>47.0</td>\n",
       "      <td>0.04</td>\n",
       "    </tr>\n",
       "  </tbody>\n",
       "</table>\n",
       "</div>"
      ],
      "text/plain": [
       "           product_name     Hex   hue  lightness  saturation  dist\n",
       "0  Mango Melon Smoothie  FFB500  43.0       50.0       100.0  4.53\n",
       "1           Magic Melon  FFB500  43.0       50.0       100.0  4.53\n",
       "2           Sweet Angel  FFC845  42.0       64.0       100.0  4.07\n",
       "3          Jingle Bells  CC8A00  41.0       40.0       100.0  2.68\n",
       "4       Soft Sandalwood  FFBF3F  40.0       62.0       100.0  0.72\n",
       "5        Crispy Popcorn  FFBF3F  40.0       62.0       100.0  0.72\n",
       "6         Sangria Party  FECB8B  33.0       77.0        98.0  2.51\n",
       "7           La-la Llama  EDC8A3  30.0       78.0        67.0  1.58\n",
       "8       Sweet Chocolate  73381D  19.0       28.0        60.0  1.03\n",
       "9           Gingerbread  81312F   1.0       35.0        47.0  0.04"
      ]
     },
     "execution_count": 90,
     "metadata": {},
     "output_type": "execute_result"
    }
   ],
   "source": [
    "_recom_sort(method_3, 'Toffee Delight')\n"
   ]
  },
  {
   "cell_type": "markdown",
   "metadata": {},
   "source": [
    "* Method 1 requires tweaking of the logic, still checking the reason why the logic is skipping all the blues and jumping to yellow colour range.\n",
    "\n",
    "* I think that I might have made some mistake in the formula for calculating the L1 distance."
   ]
  },
  {
   "cell_type": "markdown",
   "metadata": {},
   "source": [
    "## Testing K-Means"
   ]
  },
  {
   "cell_type": "code",
   "execution_count": 29,
   "metadata": {
    "scrolled": true
   },
   "outputs": [
    {
     "data": {
      "text/html": [
       "<div>\n",
       "<style scoped>\n",
       "    .dataframe tbody tr th:only-of-type {\n",
       "        vertical-align: middle;\n",
       "    }\n",
       "\n",
       "    .dataframe tbody tr th {\n",
       "        vertical-align: top;\n",
       "    }\n",
       "\n",
       "    .dataframe thead th {\n",
       "        text-align: right;\n",
       "    }\n",
       "</style>\n",
       "<table border=\"1\" class=\"dataframe\">\n",
       "  <thead>\n",
       "    <tr style=\"text-align: right;\">\n",
       "      <th></th>\n",
       "      <th>product_name</th>\n",
       "      <th>Hex</th>\n",
       "      <th>hue</th>\n",
       "      <th>saturation</th>\n",
       "      <th>lightness</th>\n",
       "    </tr>\n",
       "  </thead>\n",
       "  <tbody>\n",
       "    <tr>\n",
       "      <td>0</td>\n",
       "      <td>Cookies &amp; Cream</td>\n",
       "      <td>EFDBB2</td>\n",
       "      <td>40.0</td>\n",
       "      <td>66.0</td>\n",
       "      <td>82.0</td>\n",
       "    </tr>\n",
       "    <tr>\n",
       "      <td>1</td>\n",
       "      <td>Creamy Vanilla</td>\n",
       "      <td>EFDBB2</td>\n",
       "      <td>40.0</td>\n",
       "      <td>66.0</td>\n",
       "      <td>82.0</td>\n",
       "    </tr>\n",
       "    <tr>\n",
       "      <td>2</td>\n",
       "      <td>Happy Birthday</td>\n",
       "      <td>AF1685</td>\n",
       "      <td>316.0</td>\n",
       "      <td>78.0</td>\n",
       "      <td>39.0</td>\n",
       "    </tr>\n",
       "    <tr>\n",
       "      <td>3</td>\n",
       "      <td>Passion Fruit</td>\n",
       "      <td>F3E500</td>\n",
       "      <td>57.0</td>\n",
       "      <td>100.0</td>\n",
       "      <td>48.0</td>\n",
       "    </tr>\n",
       "    <tr>\n",
       "      <td>4</td>\n",
       "      <td>Pink Cherry</td>\n",
       "      <td>DA1884</td>\n",
       "      <td>327.0</td>\n",
       "      <td>80.0</td>\n",
       "      <td>47.0</td>\n",
       "    </tr>\n",
       "    <tr>\n",
       "      <td>...</td>\n",
       "      <td>...</td>\n",
       "      <td>...</td>\n",
       "      <td>...</td>\n",
       "      <td>...</td>\n",
       "      <td>...</td>\n",
       "    </tr>\n",
       "    <tr>\n",
       "      <td>129</td>\n",
       "      <td>Bohemian Chic</td>\n",
       "      <td>EFDBB2</td>\n",
       "      <td>40.0</td>\n",
       "      <td>66.0</td>\n",
       "      <td>82.0</td>\n",
       "    </tr>\n",
       "    <tr>\n",
       "      <td>130</td>\n",
       "      <td>You're a Gentleman</td>\n",
       "      <td>505759</td>\n",
       "      <td>193.0</td>\n",
       "      <td>5.0</td>\n",
       "      <td>33.0</td>\n",
       "    </tr>\n",
       "    <tr>\n",
       "      <td>131</td>\n",
       "      <td>Owl I Need Is You</td>\n",
       "      <td>9595D2</td>\n",
       "      <td>240.0</td>\n",
       "      <td>40.0</td>\n",
       "      <td>70.0</td>\n",
       "    </tr>\n",
       "    <tr>\n",
       "      <td>132</td>\n",
       "      <td>Sparkle and Shine</td>\n",
       "      <td>DC8699</td>\n",
       "      <td>347.0</td>\n",
       "      <td>55.0</td>\n",
       "      <td>69.0</td>\n",
       "    </tr>\n",
       "    <tr>\n",
       "      <td>133</td>\n",
       "      <td>Tropical Vibes</td>\n",
       "      <td>00263E</td>\n",
       "      <td>203.0</td>\n",
       "      <td>100.0</td>\n",
       "      <td>12.0</td>\n",
       "    </tr>\n",
       "  </tbody>\n",
       "</table>\n",
       "<p>134 rows × 5 columns</p>\n",
       "</div>"
      ],
      "text/plain": [
       "           product_name     Hex    hue  saturation  lightness\n",
       "0       Cookies & Cream  EFDBB2   40.0        66.0       82.0\n",
       "1        Creamy Vanilla  EFDBB2   40.0        66.0       82.0\n",
       "2        Happy Birthday  AF1685  316.0        78.0       39.0\n",
       "3         Passion Fruit  F3E500   57.0       100.0       48.0\n",
       "4           Pink Cherry  DA1884  327.0        80.0       47.0\n",
       "..                  ...     ...    ...         ...        ...\n",
       "129       Bohemian Chic  EFDBB2   40.0        66.0       82.0\n",
       "130  You're a Gentleman  505759  193.0         5.0       33.0\n",
       "131   Owl I Need Is You  9595D2  240.0        40.0       70.0\n",
       "132   Sparkle and Shine  DC8699  347.0        55.0       69.0\n",
       "133      Tropical Vibes  00263E  203.0       100.0       12.0\n",
       "\n",
       "[134 rows x 5 columns]"
      ]
     },
     "execution_count": 29,
     "metadata": {},
     "output_type": "execute_result"
    }
   ],
   "source": [
    "prod_col = prods_new[['product_name', 'Hex', 'hue', 'saturation', 'lightness']][~prods_new.hue.isna()].drop_duplicates(['product_name', 'hue', 'saturation', 'lightness']).reset_index(drop=True)\n",
    "prod_col_1 = prod_col.copy().set_index('product_name')\n",
    "prod_col"
   ]
  },
  {
   "cell_type": "code",
   "execution_count": 35,
   "metadata": {},
   "outputs": [
    {
     "data": {
      "text/plain": [
       "pandas.core.frame.DataFrame"
      ]
     },
     "execution_count": 35,
     "metadata": {},
     "output_type": "execute_result"
    }
   ],
   "source": [
    "type(prod_col)"
   ]
  },
  {
   "cell_type": "code",
   "execution_count": 27,
   "metadata": {},
   "outputs": [
    {
     "data": {
      "image/png": "[encoded data removed]",
      "text/plain": [
       "<Figure size 2160x1080 with 1 Axes>"
      ]
     },
     "metadata": {
      "needs_background": "light"
     },
     "output_type": "display_data"
    }
   ],
   "source": [
    "from sklearn.cluster import KMeans\n",
    "from sklearn import metrics\n",
    "from scipy.spatial.distance import cdist\n",
    "import numpy as np\n",
    "import matplotlib.pyplot as plt\n",
    "\n",
    "\n",
    "_k_means_fit = prod_col[['hue','saturation','lightness']].values\n",
    "\n",
    "# k means determine k\n",
    "distortions = []\n",
    "K = range(1,30)\n",
    "for k in K:\n",
    "    kmeanModel = KMeans(n_clusters=k).fit(_k_means_fit)\n",
    "    kmeanModel.fit(_k_means_fit)\n",
    "    distortions.append(sum(np.min(cdist(_k_means_fit, kmeanModel.cluster_centers_, 'euclidean'), axis=1)) / _k_means_fit.shape[0])\n",
    "\n",
    "# Plot the elbow\n",
    "plt.rc('axes', titlesize=20, labelsize=20)\n",
    "plt.rc('xtick',labelsize=20)\n",
    "plt.rc('ytick', labelsize=20)\n",
    "\n",
    "plt.figure(figsize=(20,15))\n",
    "plt.plot(K, distortions, 'bx-', markersize=20)\n",
    "plt.xlabel('k')\n",
    "plt.ylabel('Distortion')\n",
    "plt.title('The Elbow Method showing the optimal k')\n",
    "plt.show()"
   ]
  },
  {
   "cell_type": "code",
   "execution_count": 27,
   "metadata": {},
   "outputs": [],
   "source": [
    "## function to sort dataframe based on input hue value first\n",
    "\n",
    "def _recom_sort(df, prod_name):\n",
    "    lst_hue = list(df.hue)\n",
    "    lst_hue.sort(key = lambda x: abs(x-int(prod_col.hue[prod_col.product_name==prod_name])))\n",
    "    df['hue'] = pd.Categorical(\n",
    "        df['hue'], \n",
    "        categories=list(pd.unique(lst_hue)), \n",
    "        ordered=True\n",
    "    )\n",
    "    df_sorted = df.sort_values(by='hue').reset_index(drop=True)\n",
    "    return df_sorted"
   ]
  },
  {
   "cell_type": "code",
   "execution_count": 29,
   "metadata": {},
   "outputs": [],
   "source": [
    "# Assigning groups to products using K-Means\n",
    "\n",
    "kmeans = KMeans(n_clusters=15, random_state=100).fit(_k_means_fit)\n",
    "col_group = kmeans.labels_\n",
    "\n",
    "# Create copy of original dataframe\n",
    "prod_col_w_grp = prod_col.copy()\n",
    "# Store generated groups into new column\n",
    "prod_col_w_grp['group'] = list(col_group)\n",
    "\n"
   ]
  },
  {
   "cell_type": "code",
   "execution_count": 30,
   "metadata": {},
   "outputs": [],
   "source": [
    "## Function to produce recommended list of products based on input product name\n",
    "\n",
    "def _kmeans_recom(prod_name):\n",
    "    g_value = kmeans.predict(prod_col[['hue','saturation','lightness']][prod_col.product_name==prod_name].values)[0]\n",
    "    recom_prod = prod_col_w_grp[(prod_col_w_grp.group==g_value) & (prod_col_w_grp.product_name!=prod_name)].reset_index(drop=True)\n",
    "    return _recom_sort(recom_prod, prod_name)"
   ]
  },
  {
   "cell_type": "code",
   "execution_count": 91,
   "metadata": {},
   "outputs": [
    {
     "name": "stdout",
     "output_type": "stream",
     "text": [
      "      product_name     Hex   hue  saturation  lightness  group\n",
      "30  Toffee Delight  E0E721  62.0        80.0       52.0      1 \n",
      "\n",
      "\n",
      "           product_name     Hex   hue  saturation  lightness  group\n",
      "0        Fresh Lemonade  B7BF10  63.0        85.0       41.0      1\n",
      "1          Happy Summer  E1E000  60.0       100.0       44.0      1\n",
      "2         Passion Fruit  F3E500  57.0       100.0       48.0      1\n",
      "3  Mango Melon Smoothie  FFB500  43.0       100.0       50.0      1\n",
      "4           Magic Melon  FFB500  43.0       100.0       50.0      1\n",
      "5          Jingle Bells  CC8A00  41.0       100.0       40.0      1\n"
     ]
    },
    {
     "data": {
      "image/png": "[encoded data removed]",
      "text/plain": [
       "<Figure size 72x72 with 1 Axes>"
      ]
     },
     "metadata": {
      "needs_background": "light"
     },
     "output_type": "display_data"
    },
    {
     "data": {
      "image/png": "[encoded data removed]",
      "text/plain": [
       "<Figure size 432x72 with 1 Axes>"
      ]
     },
     "metadata": {
      "needs_background": "light"
     },
     "output_type": "display_data"
    }
   ],
   "source": [
    "## Testing the function\n",
    "\n",
    "# prod_name = candle#'Sweetest Reindeer'\n",
    "prod_name = 'Toffee Delight'\n",
    "\n",
    "print(prod_col_w_grp[prod_col_w_grp.product_name==prod_name], '\\n\\n')\n",
    "\n",
    "print(_kmeans_recom(prod_name))\n",
    "\n",
    "sns.palplot(list(map(hex_to_rgb, list(prod_col_w_grp.Hex[prod_col_w_grp.product_name==prod_name]))))\n",
    "sns.palplot(list(map(hex_to_rgb, list(_kmeans_recom(prod_name).Hex))))"
   ]
  },
  {
   "cell_type": "markdown",
   "metadata": {},
   "source": [
    "#### Testing sorting function"
   ]
  },
  {
   "cell_type": "code",
   "execution_count": 126,
   "metadata": {
    "scrolled": true
   },
   "outputs": [
    {
     "data": {
      "text/html": [
       "<div>\n",
       "<style scoped>\n",
       "    .dataframe tbody tr th:only-of-type {\n",
       "        vertical-align: middle;\n",
       "    }\n",
       "\n",
       "    .dataframe tbody tr th {\n",
       "        vertical-align: top;\n",
       "    }\n",
       "\n",
       "    .dataframe thead th {\n",
       "        text-align: right;\n",
       "    }\n",
       "</style>\n",
       "<table border=\"1\" class=\"dataframe\">\n",
       "  <thead>\n",
       "    <tr style=\"text-align: right;\">\n",
       "      <th></th>\n",
       "      <th>product_name</th>\n",
       "      <th>Hex</th>\n",
       "      <th>hue</th>\n",
       "      <th>saturation</th>\n",
       "      <th>lightness</th>\n",
       "      <th>group</th>\n",
       "    </tr>\n",
       "  </thead>\n",
       "  <tbody>\n",
       "    <tr>\n",
       "      <td>0</td>\n",
       "      <td>Cookies &amp; Cream</td>\n",
       "      <td>EFDBB2</td>\n",
       "      <td>40.0</td>\n",
       "      <td>66.0</td>\n",
       "      <td>82.0</td>\n",
       "      <td>3</td>\n",
       "    </tr>\n",
       "    <tr>\n",
       "      <td>1</td>\n",
       "      <td>Bohemian Chic</td>\n",
       "      <td>EFDBB2</td>\n",
       "      <td>40.0</td>\n",
       "      <td>66.0</td>\n",
       "      <td>82.0</td>\n",
       "      <td>3</td>\n",
       "    </tr>\n",
       "    <tr>\n",
       "      <td>2</td>\n",
       "      <td>Sweet Cupcake</td>\n",
       "      <td>EFDBB2</td>\n",
       "      <td>40.0</td>\n",
       "      <td>66.0</td>\n",
       "      <td>82.0</td>\n",
       "      <td>3</td>\n",
       "    </tr>\n",
       "    <tr>\n",
       "      <td>3</td>\n",
       "      <td>Creamy Vanilla (No Glass)</td>\n",
       "      <td>EFDBB2</td>\n",
       "      <td>40.0</td>\n",
       "      <td>66.0</td>\n",
       "      <td>82.0</td>\n",
       "      <td>3</td>\n",
       "    </tr>\n",
       "    <tr>\n",
       "      <td>4</td>\n",
       "      <td>Cookies &amp; Cream (No Glass)</td>\n",
       "      <td>EFDBB2</td>\n",
       "      <td>40.0</td>\n",
       "      <td>66.0</td>\n",
       "      <td>82.0</td>\n",
       "      <td>3</td>\n",
       "    </tr>\n",
       "  </tbody>\n",
       "</table>\n",
       "</div>"
      ],
      "text/plain": [
       "                 product_name     Hex   hue  saturation  lightness  group\n",
       "0             Cookies & Cream  EFDBB2  40.0        66.0       82.0      3\n",
       "1               Bohemian Chic  EFDBB2  40.0        66.0       82.0      3\n",
       "2               Sweet Cupcake  EFDBB2  40.0        66.0       82.0      3\n",
       "3   Creamy Vanilla (No Glass)  EFDBB2  40.0        66.0       82.0      3\n",
       "4  Cookies & Cream (No Glass)  EFDBB2  40.0        66.0       82.0      3"
      ]
     },
     "execution_count": 126,
     "metadata": {},
     "output_type": "execute_result"
    }
   ],
   "source": [
    "_recom_sort(_kmeans_recom(prod_name)).head()"
   ]
  },
  {
   "cell_type": "code",
   "execution_count": 127,
   "metadata": {
    "scrolled": true
   },
   "outputs": [
    {
     "data": {
      "text/html": [
       "<div>\n",
       "<style scoped>\n",
       "    .dataframe tbody tr th:only-of-type {\n",
       "        vertical-align: middle;\n",
       "    }\n",
       "\n",
       "    .dataframe tbody tr th {\n",
       "        vertical-align: top;\n",
       "    }\n",
       "\n",
       "    .dataframe thead th {\n",
       "        text-align: right;\n",
       "    }\n",
       "</style>\n",
       "<table border=\"1\" class=\"dataframe\">\n",
       "  <thead>\n",
       "    <tr style=\"text-align: right;\">\n",
       "      <th></th>\n",
       "      <th>product_name</th>\n",
       "      <th>Hex</th>\n",
       "      <th>hue</th>\n",
       "      <th>saturation</th>\n",
       "      <th>lightness</th>\n",
       "      <th>group</th>\n",
       "    </tr>\n",
       "  </thead>\n",
       "  <tbody>\n",
       "    <tr>\n",
       "      <td>0</td>\n",
       "      <td>Cookies &amp; Cream</td>\n",
       "      <td>EFDBB2</td>\n",
       "      <td>40.0</td>\n",
       "      <td>66.0</td>\n",
       "      <td>82.0</td>\n",
       "      <td>3</td>\n",
       "    </tr>\n",
       "    <tr>\n",
       "      <td>1</td>\n",
       "      <td>Cozy Winter</td>\n",
       "      <td>EFDBB2</td>\n",
       "      <td>40.0</td>\n",
       "      <td>66.0</td>\n",
       "      <td>82.0</td>\n",
       "      <td>3</td>\n",
       "    </tr>\n",
       "    <tr>\n",
       "      <td>2</td>\n",
       "      <td>Pour toujours &amp; męme aprčs</td>\n",
       "      <td>EFDBB2</td>\n",
       "      <td>40.0</td>\n",
       "      <td>66.0</td>\n",
       "      <td>82.0</td>\n",
       "      <td>3</td>\n",
       "    </tr>\n",
       "    <tr>\n",
       "      <td>3</td>\n",
       "      <td>Blossom</td>\n",
       "      <td>EFDBB2</td>\n",
       "      <td>40.0</td>\n",
       "      <td>66.0</td>\n",
       "      <td>82.0</td>\n",
       "      <td>3</td>\n",
       "    </tr>\n",
       "    <tr>\n",
       "      <td>4</td>\n",
       "      <td>Ice Cream Vanilla</td>\n",
       "      <td>EFDBB2</td>\n",
       "      <td>40.0</td>\n",
       "      <td>66.0</td>\n",
       "      <td>82.0</td>\n",
       "      <td>3</td>\n",
       "    </tr>\n",
       "  </tbody>\n",
       "</table>\n",
       "</div>"
      ],
      "text/plain": [
       "                 product_name     Hex   hue  saturation  lightness  group\n",
       "0             Cookies & Cream  EFDBB2  40.0        66.0       82.0      3\n",
       "1                 Cozy Winter  EFDBB2  40.0        66.0       82.0      3\n",
       "2  Pour toujours & męme aprčs  EFDBB2  40.0        66.0       82.0      3\n",
       "3                     Blossom  EFDBB2  40.0        66.0       82.0      3\n",
       "4           Ice Cream Vanilla  EFDBB2  40.0        66.0       82.0      3"
      ]
     },
     "execution_count": 127,
     "metadata": {},
     "output_type": "execute_result"
    }
   ],
   "source": [
    "t1 = _kmeans_recom(prod_name)\n",
    "t1.head()"
   ]
  },
  {
   "cell_type": "code",
   "execution_count": 115,
   "metadata": {},
   "outputs": [
    {
     "data": {
      "text/plain": [
       "[40.0,\n",
       " 40.0,\n",
       " 40.0,\n",
       " 40.0,\n",
       " 40.0,\n",
       " 40.0,\n",
       " 40.0,\n",
       " 40.0,\n",
       " 40.0,\n",
       " 40.0,\n",
       " 32.0,\n",
       " 50.0,\n",
       " 30.0,\n",
       " 50.0,\n",
       " 29.0,\n",
       " 17.0,\n",
       " 82.0]"
      ]
     },
     "execution_count": 115,
     "metadata": {},
     "output_type": "execute_result"
    }
   ],
   "source": [
    "lst_t1 = list(t1.hue)\n",
    "lst_t1.sort(key = lambda x: abs(x-int(prod_col_w_grp.hue[prod_col_w_grp.product_name==prod_name])))\n",
    "lst_t1"
   ]
  },
  {
   "cell_type": "code",
   "execution_count": 128,
   "metadata": {},
   "outputs": [
    {
     "data": {
      "text/html": [
       "<div>\n",
       "<style scoped>\n",
       "    .dataframe tbody tr th:only-of-type {\n",
       "        vertical-align: middle;\n",
       "    }\n",
       "\n",
       "    .dataframe tbody tr th {\n",
       "        vertical-align: top;\n",
       "    }\n",
       "\n",
       "    .dataframe thead th {\n",
       "        text-align: right;\n",
       "    }\n",
       "</style>\n",
       "<table border=\"1\" class=\"dataframe\">\n",
       "  <thead>\n",
       "    <tr style=\"text-align: right;\">\n",
       "      <th></th>\n",
       "      <th>product_name</th>\n",
       "      <th>Hex</th>\n",
       "      <th>hue</th>\n",
       "      <th>saturation</th>\n",
       "      <th>lightness</th>\n",
       "      <th>group</th>\n",
       "    </tr>\n",
       "  </thead>\n",
       "  <tbody>\n",
       "    <tr>\n",
       "      <td>0</td>\n",
       "      <td>Cookies &amp; Cream</td>\n",
       "      <td>EFDBB2</td>\n",
       "      <td>40.0</td>\n",
       "      <td>66.0</td>\n",
       "      <td>82.0</td>\n",
       "      <td>3</td>\n",
       "    </tr>\n",
       "    <tr>\n",
       "      <td>1</td>\n",
       "      <td>Bohemian Chic</td>\n",
       "      <td>EFDBB2</td>\n",
       "      <td>40.0</td>\n",
       "      <td>66.0</td>\n",
       "      <td>82.0</td>\n",
       "      <td>3</td>\n",
       "    </tr>\n",
       "    <tr>\n",
       "      <td>2</td>\n",
       "      <td>Sweet Cupcake</td>\n",
       "      <td>EFDBB2</td>\n",
       "      <td>40.0</td>\n",
       "      <td>66.0</td>\n",
       "      <td>82.0</td>\n",
       "      <td>3</td>\n",
       "    </tr>\n",
       "    <tr>\n",
       "      <td>3</td>\n",
       "      <td>Creamy Vanilla (No Glass)</td>\n",
       "      <td>EFDBB2</td>\n",
       "      <td>40.0</td>\n",
       "      <td>66.0</td>\n",
       "      <td>82.0</td>\n",
       "      <td>3</td>\n",
       "    </tr>\n",
       "    <tr>\n",
       "      <td>4</td>\n",
       "      <td>Cookies &amp; Cream (No Glass)</td>\n",
       "      <td>EFDBB2</td>\n",
       "      <td>40.0</td>\n",
       "      <td>66.0</td>\n",
       "      <td>82.0</td>\n",
       "      <td>3</td>\n",
       "    </tr>\n",
       "  </tbody>\n",
       "</table>\n",
       "</div>"
      ],
      "text/plain": [
       "                 product_name     Hex   hue  saturation  lightness  group\n",
       "0             Cookies & Cream  EFDBB2  40.0        66.0       82.0      3\n",
       "1               Bohemian Chic  EFDBB2  40.0        66.0       82.0      3\n",
       "2               Sweet Cupcake  EFDBB2  40.0        66.0       82.0      3\n",
       "3   Creamy Vanilla (No Glass)  EFDBB2  40.0        66.0       82.0      3\n",
       "4  Cookies & Cream (No Glass)  EFDBB2  40.0        66.0       82.0      3"
      ]
     },
     "execution_count": 128,
     "metadata": {},
     "output_type": "execute_result"
    }
   ],
   "source": [
    "t1['hue'] = pd.Categorical(\n",
    "    t1['hue'], \n",
    "    categories=list(pd.unique(lst_t1)), \n",
    "    ordered=True\n",
    ")\n",
    "t1.sort_values(by='hue').reset_index(drop=True).head()"
   ]
  },
  {
   "cell_type": "code",
   "execution_count": 112,
   "metadata": {},
   "outputs": [
    {
     "data": {
      "text/plain": [
       "0     EFDBB2\n",
       "13    EFDBB2\n",
       "12    EFDBB2\n",
       "11    EFDBB2\n",
       "10    EFDBB2\n",
       "7     EFDBB2\n",
       "8     EFDBB2\n",
       "1     EFDBB2\n",
       "6     EFDBB2\n",
       "16    EFDBB2\n",
       "5     E6A65D\n",
       "15    F1E6B2\n",
       "3     F1E6B2\n",
       "14    EDC8A3\n",
       "9     DBC8B6\n",
       "4     E6BAA8\n",
       "2     C4D6A4\n",
       "Name: Hex, dtype: object"
      ]
     },
     "execution_count": 112,
     "metadata": {},
     "output_type": "execute_result"
    }
   ],
   "source": [
    "t1.sort_values('hue').Hex"
   ]
  },
  {
   "cell_type": "code",
   "execution_count": 113,
   "metadata": {},
   "outputs": [
    {
     "data": {
      "image/png": "[encoded data removed]",
      "text/plain": [
       "<Figure size 1224x72 with 1 Axes>"
      ]
     },
     "metadata": {},
     "output_type": "display_data"
    }
   ],
   "source": [
    "sns.palplot(list(map(hex_to_rgb, list(t1.sort_values('hue').Hex))))"
   ]
  },
  {
   "cell_type": "markdown",
   "metadata": {},
   "source": [
    "##### End of test"
   ]
  },
  {
   "cell_type": "code",
   "execution_count": 125,
   "metadata": {},
   "outputs": [
    {
     "data": {
      "image/png": "[encoded data removed]",
      "text/plain": [
       "<Figure size 2160x1080 with 1 Axes>"
      ]
     },
     "metadata": {},
     "output_type": "display_data"
    }
   ],
   "source": [
    "##Plotting the clusters\n",
    "\n",
    "prod_kmeans = prod_col_w_grp[['hue','saturation','lightness', 'group']]\n",
    "centroids = kmeans.cluster_centers_\n",
    "u_labels = np.unique(col_group)\n",
    "colormap = np.array(['r', 'g', 'b'])\n",
    "\n",
    "plt.figure(figsize=(30,15))\n",
    "for i in u_labels:\n",
    "    plt.scatter(prod_kmeans[col_group == i].iloc[:,0] , prod_kmeans[col_group == i].iloc[:,1], s=200, label =i)\n",
    "plt.scatter(centroids[:,0] , centroids[:,1] , s = 100, color = 'k')\n",
    "plt.legend()\n",
    "plt.show()"
   ]
  },
  {
   "cell_type": "code",
   "execution_count": null,
   "metadata": {},
   "outputs": [],
   "source": []
  },
  {
   "cell_type": "markdown",
   "metadata": {},
   "source": [
    "## Testing DBSCAN"
   ]
  },
  {
   "cell_type": "markdown",
   "metadata": {},
   "source": [
    "https://towardsdatascience.com/machine-learning-clustering-dbscan-determine-the-optimal-value-for-epsilon-eps-python-example-3100091cfbc"
   ]
  },
  {
   "cell_type": "code",
   "execution_count": 32,
   "metadata": {},
   "outputs": [
    {
     "data": {
      "text/plain": [
       "[<matplotlib.lines.Line2D at 0x20d9246eec8>]"
      ]
     },
     "execution_count": 32,
     "metadata": {},
     "output_type": "execute_result"
    },
    {
     "data": {
      "image/png": "[encoded data removed]",
      "text/plain": [
       "<Figure size 1440x720 with 1 Axes>"
      ]
     },
     "metadata": {
      "needs_background": "light"
     },
     "output_type": "display_data"
    }
   ],
   "source": [
    "# Import realted packages\n",
    "from sklearn.cluster import DBSCAN\n",
    "from sklearn.neighbors import NearestNeighbors\n",
    "\n",
    "# reduced dataframe for fitting\n",
    "_dbs_fit = prod_col[['hue','saturation','lightness']].values\n",
    "\n",
    "# Calculate distances between neighbouring points\n",
    "neigh = NearestNeighbors(n_neighbors=2)\n",
    "nbrs = neigh.fit(_dbs_fit)\n",
    "distances, indices = nbrs.kneighbors(_dbs_fit)\n",
    "\n",
    "# Plot graph to measure optimal epsilon\n",
    "distances = np.sort(distances, axis=0)\n",
    "distances = distances[:,1]\n",
    "plt.figure(figsize=(20,10))\n",
    "plt.plot(distances)"
   ]
  },
  {
   "cell_type": "code",
   "execution_count": 33,
   "metadata": {},
   "outputs": [],
   "source": [
    "## Fit the DBSCAN algorithm to the dataset\n",
    "clustering = DBSCAN(eps=18, min_samples=2).fit(_dbs_fit)\n",
    "\n",
    "# Generate the labels for the clusters\n",
    "col_group_dbs = clustering.labels_\n",
    "\n",
    "# Create copy of original dataset\n",
    "prod_col_wdbs_grp = prod_col.copy()\n",
    "\n",
    "# Append generated labels to the new dataframe \n",
    "prod_col_wdbs_grp['group'] = list(col_group_dbs)\n",
    "\n"
   ]
  },
  {
   "cell_type": "code",
   "execution_count": 34,
   "metadata": {},
   "outputs": [
    {
     "data": {
      "image/png": "[encoded data removed]",
      "text/plain": [
       "<Figure size 2160x1080 with 1 Axes>"
      ]
     },
     "metadata": {
      "needs_background": "light"
     },
     "output_type": "display_data"
    }
   ],
   "source": [
    "# Plot clusters as per DBSCAN\n",
    "\n",
    "prod_dbs = prod_col_wdbs_grp[['hue','saturation','lightness', 'group']]\n",
    "u_labels = np.unique(col_group_dbs)\n",
    "colormap = np.array(['r', 'g', 'b']) # set the colour pallete of the colours for each group\n",
    "\n",
    "plt.figure(figsize=(30,15)) # set size of the plot\n",
    "# plotting the points for each group\n",
    "for i in u_labels:\n",
    "    plt.scatter(prod_dbs[col_group_dbs == i].iloc[:,0] , prod_dbs[col_group_dbs == i].iloc[:,1], s=200, label =i)\n",
    "plt.legend()\n",
    "plt.show()"
   ]
  },
  {
   "cell_type": "code",
   "execution_count": 102,
   "metadata": {},
   "outputs": [],
   "source": [
    "def _dbscan_recom(prod_name):\n",
    "    candle_group = prod_col_wdbs_grp.group[prod_col_wdbs_grp.product_name == candle_name].unique()[0]\n",
    "    recom_prod = prod_col_wdbs_grp[(prod_col_wdbs_grp.group == candle_group) & (prod_col_wdbs_grp.product_name!=prod_name)].reset_index(drop=True)\n",
    "    return _recom_sort(recom_prod, prod_name)"
   ]
  },
  {
   "cell_type": "code",
   "execution_count": 103,
   "metadata": {},
   "outputs": [
    {
     "name": "stdout",
     "output_type": "stream",
     "text": [
      "      product_name     Hex   hue  saturation  lightness  group\n",
      "30  Toffee Delight  E0E721  62.0        80.0       52.0      2 \n",
      "\n",
      "\n",
      "            product_name     Hex   hue  saturation  lightness  group\n",
      "0         Fresh Lemonade  B7BF10  63.0        85.0       41.0      2\n",
      "1           Happy Summer  E1E000  60.0       100.0       44.0      2\n",
      "2          Passion Fruit  F3E500  57.0       100.0       48.0      2\n",
      "3   Mango Melon Smoothie  FFB500  43.0       100.0       50.0      2\n",
      "4            Magic Melon  FFB500  43.0       100.0       50.0      2\n",
      "5            Sweet Angel  FFC845  42.0       100.0       64.0      2\n",
      "6         Tropical Peach  FDD26E  42.0        97.0       71.0      2\n",
      "7    You Are My Sunshine  FDD26E  42.0        97.0       71.0      2\n",
      "8           Jingle Bells  CC8A00  41.0       100.0       40.0      2\n",
      "9         Crispy Popcorn  FFBF3F  40.0       100.0       62.0      2\n",
      "10       Soft Sandalwood  FFBF3F  40.0       100.0       62.0      2\n",
      "11         Sangria Party  FECB8B  33.0        98.0       77.0      2\n",
      "12       Cinnamon Orange  FF8F1C  30.0       100.0       55.0      2\n"
     ]
    },
    {
     "data": {
      "image/png": "[encoded data removed]",
      "text/plain": [
       "<Figure size 72x72 with 1 Axes>"
      ]
     },
     "metadata": {
      "needs_background": "light"
     },
     "output_type": "display_data"
    },
    {
     "data": {
      "image/png": "[encoded data removed]",
      "text/plain": [
       "<Figure size 936x72 with 1 Axes>"
      ]
     },
     "metadata": {
      "needs_background": "light"
     },
     "output_type": "display_data"
    }
   ],
   "source": [
    "## Testing the function\n",
    "\n",
    "candle_name = prod_name #'Sweetest Reindeer'\n",
    "# prod_name = 'Creamy Vanilla'\n",
    "\n",
    "print(prod_col_wdbs_grp[prod_col_wdbs_grp.product_name==prod_name], '\\n\\n')\n",
    "\n",
    "print(_dbscan_recom(candle_name))\n",
    "\n",
    "sns.palplot(list(map(hex_to_rgb, list(prod_col_wdbs_grp.Hex[prod_col_wdbs_grp.product_name==prod_name]))))\n",
    "sns.palplot(list(map(hex_to_rgb, list(_dbscan_recom(candle_name).Hex))))"
   ]
  },
  {
   "cell_type": "code",
   "execution_count": 106,
   "metadata": {},
   "outputs": [
    {
     "data": {
      "image/png": "[encoded data removed]",
      "text/plain": [
       "<Figure size 432x72 with 1 Axes>"
      ]
     },
     "metadata": {
      "needs_background": "light"
     },
     "output_type": "display_data"
    }
   ],
   "source": [
    "sns.palplot(list(map(hex_to_rgb, list(_kmeans_recom(prod_name).Hex))))"
   ]
  },
  {
   "cell_type": "code",
   "execution_count": 104,
   "metadata": {},
   "outputs": [
    {
     "data": {
      "text/plain": [
       "0           Fresh Lemonade\n",
       "1             Happy Summer\n",
       "2            Passion Fruit\n",
       "3     Mango Melon Smoothie\n",
       "4              Magic Melon\n",
       "5              Sweet Angel\n",
       "6           Tropical Peach\n",
       "7      You Are My Sunshine\n",
       "8             Jingle Bells\n",
       "9           Crispy Popcorn\n",
       "10         Soft Sandalwood\n",
       "11           Sangria Party\n",
       "12         Cinnamon Orange\n",
       "Name: product_name, dtype: object"
      ]
     },
     "execution_count": 104,
     "metadata": {},
     "output_type": "execute_result"
    }
   ],
   "source": [
    "_dbscan_recom(candle_name).product_name"
   ]
  },
  {
   "cell_type": "code",
   "execution_count": 105,
   "metadata": {},
   "outputs": [
    {
     "data": {
      "text/html": [
       "<div>\n",
       "<style scoped>\n",
       "    .dataframe tbody tr th:only-of-type {\n",
       "        vertical-align: middle;\n",
       "    }\n",
       "\n",
       "    .dataframe tbody tr th {\n",
       "        vertical-align: top;\n",
       "    }\n",
       "\n",
       "    .dataframe thead th {\n",
       "        text-align: right;\n",
       "    }\n",
       "</style>\n",
       "<table border=\"1\" class=\"dataframe\">\n",
       "  <thead>\n",
       "    <tr style=\"text-align: right;\">\n",
       "      <th></th>\n",
       "      <th>product_name</th>\n",
       "      <th>Hex</th>\n",
       "      <th>hue</th>\n",
       "      <th>saturation</th>\n",
       "      <th>lightness</th>\n",
       "      <th>group</th>\n",
       "    </tr>\n",
       "  </thead>\n",
       "  <tbody>\n",
       "    <tr>\n",
       "      <td>0</td>\n",
       "      <td>Fresh Lemonade</td>\n",
       "      <td>B7BF10</td>\n",
       "      <td>63.0</td>\n",
       "      <td>85.0</td>\n",
       "      <td>41.0</td>\n",
       "      <td>1</td>\n",
       "    </tr>\n",
       "    <tr>\n",
       "      <td>1</td>\n",
       "      <td>Happy Summer</td>\n",
       "      <td>E1E000</td>\n",
       "      <td>60.0</td>\n",
       "      <td>100.0</td>\n",
       "      <td>44.0</td>\n",
       "      <td>1</td>\n",
       "    </tr>\n",
       "    <tr>\n",
       "      <td>2</td>\n",
       "      <td>Passion Fruit</td>\n",
       "      <td>F3E500</td>\n",
       "      <td>57.0</td>\n",
       "      <td>100.0</td>\n",
       "      <td>48.0</td>\n",
       "      <td>1</td>\n",
       "    </tr>\n",
       "    <tr>\n",
       "      <td>3</td>\n",
       "      <td>Mango Melon Smoothie</td>\n",
       "      <td>FFB500</td>\n",
       "      <td>43.0</td>\n",
       "      <td>100.0</td>\n",
       "      <td>50.0</td>\n",
       "      <td>1</td>\n",
       "    </tr>\n",
       "    <tr>\n",
       "      <td>4</td>\n",
       "      <td>Magic Melon</td>\n",
       "      <td>FFB500</td>\n",
       "      <td>43.0</td>\n",
       "      <td>100.0</td>\n",
       "      <td>50.0</td>\n",
       "      <td>1</td>\n",
       "    </tr>\n",
       "    <tr>\n",
       "      <td>5</td>\n",
       "      <td>Jingle Bells</td>\n",
       "      <td>CC8A00</td>\n",
       "      <td>41.0</td>\n",
       "      <td>100.0</td>\n",
       "      <td>40.0</td>\n",
       "      <td>1</td>\n",
       "    </tr>\n",
       "  </tbody>\n",
       "</table>\n",
       "</div>"
      ],
      "text/plain": [
       "           product_name     Hex   hue  saturation  lightness  group\n",
       "0        Fresh Lemonade  B7BF10  63.0        85.0       41.0      1\n",
       "1          Happy Summer  E1E000  60.0       100.0       44.0      1\n",
       "2         Passion Fruit  F3E500  57.0       100.0       48.0      1\n",
       "3  Mango Melon Smoothie  FFB500  43.0       100.0       50.0      1\n",
       "4           Magic Melon  FFB500  43.0       100.0       50.0      1\n",
       "5          Jingle Bells  CC8A00  41.0       100.0       40.0      1"
      ]
     },
     "execution_count": 105,
     "metadata": {},
     "output_type": "execute_result"
    }
   ],
   "source": [
    "_kmeans_recom(prod_name)"
   ]
  },
  {
   "cell_type": "markdown",
   "metadata": {},
   "source": [
    "## Test to determine the best model"
   ]
  },
  {
   "cell_type": "markdown",
   "metadata": {},
   "source": [
    "get the points recommended by each algorithm for a particular candle and pass them through the below test."
   ]
  },
  {
   "cell_type": "code",
   "execution_count": 61,
   "metadata": {},
   "outputs": [],
   "source": [
    "dbs_rec_df = _dbscan_recom(candle_name)  ## result set from DBSCAN\n",
    "kms_rec_df = _kmeans_recom(prod_name)  ## result set from K-Means"
   ]
  },
  {
   "cell_type": "code",
   "execution_count": 62,
   "metadata": {},
   "outputs": [],
   "source": [
    "dbs_np = dbs_rec_df[['hue', 'saturation', 'lightness']].to_numpy()\n",
    "kms_np = kms_rec_df[['hue', 'saturation', 'lightness']].to_numpy()"
   ]
  },
  {
   "cell_type": "code",
   "execution_count": 51,
   "metadata": {},
   "outputs": [],
   "source": [
    "# Radius of gyration measure\n",
    "\n",
    "def gyration_rad(point_dist: np.ndarray):\n",
    "    centre_mass = np.sum(point_dist, axis=0)/len(point_dist)\n",
    "    gyr = 0.0\n",
    "    for i in range(len(point_dist)):\n",
    "        gyr = gyr + np.sum((point_dist[i, :] - centre_mass)**2)\n",
    "    return gyr/len(point_dist)\n",
    "\n",
    "def ball_density(num_points, radius):\n",
    "    return num_points/(4./3.*np.pi*(radius**3))"
   ]
  },
  {
   "cell_type": "code",
   "execution_count": 111,
   "metadata": {
    "scrolled": true
   },
   "outputs": [
    {
     "data": {
      "text/plain": [
       "0.00064000000000000005"
      ]
     },
     "execution_count": 111,
     "metadata": {},
     "output_type": "execute_result"
    }
   ],
   "source": [
    "gyr_rad = gyration_rad(dbs_np)\n",
    "gyr_rad = np.sqrt(gyr_rad)\n",
    "round(ball_density(len(dbs_np), gyr_rad), 5)"
   ]
  },
  {
   "cell_type": "code",
   "execution_count": 115,
   "metadata": {},
   "outputs": [
    {
     "data": {
      "text/plain": [
       "24"
      ]
     },
     "execution_count": 115,
     "metadata": {},
     "output_type": "execute_result"
    }
   ],
   "source": [
    "len(dbs_np)"
   ]
  },
  {
   "cell_type": "code",
   "execution_count": 113,
   "metadata": {},
   "outputs": [
    {
     "data": {
      "text/plain": [
       "0.00080999999999999996"
      ]
     },
     "execution_count": 113,
     "metadata": {},
     "output_type": "execute_result"
    }
   ],
   "source": [
    "gyr_rad = gyration_rad(kms_np)\n",
    "gyr_rad = np.sqrt(gyr_rad)\n",
    "round(ball_density(len(kms_np), gyr_rad), 5)"
   ]
  },
  {
   "cell_type": "code",
   "execution_count": 114,
   "metadata": {},
   "outputs": [
    {
     "data": {
      "text/plain": [
       "17.079500653138361"
      ]
     },
     "execution_count": 114,
     "metadata": {},
     "output_type": "execute_result"
    }
   ],
   "source": [
    "gyr_rad"
   ]
  },
  {
   "cell_type": "code",
   "execution_count": 67,
   "metadata": {},
   "outputs": [
    {
     "data": {
      "text/plain": [
       "24"
      ]
     },
     "execution_count": 67,
     "metadata": {},
     "output_type": "execute_result"
    }
   ],
   "source": [
    "len(dbs_np)"
   ]
  },
  {
   "cell_type": "code",
   "execution_count": 70,
   "metadata": {},
   "outputs": [
    {
     "data": {
      "text/plain": [
       "True"
      ]
     },
     "execution_count": 70,
     "metadata": {},
     "output_type": "execute_result"
    }
   ],
   "source": [
    "round(ball_density(len(dbs_np), np.sqrt(gyration_rad(dbs_np))), 5) < \\\n",
    "            round(ball_density(len(kms_np), np.sqrt(gyration_rad(kms_np))), 5)"
   ]
  },
  {
   "cell_type": "markdown",
   "metadata": {},
   "source": [
    "https://www.geeksforgeeks.org/dunn-index-and-db-index-cluster-validity-indices-set-1/"
   ]
  },
  {
   "cell_type": "code",
   "execution_count": 201,
   "metadata": {},
   "outputs": [],
   "source": [
    "from sklearn.metrics import davies_bouldin_score\n",
    "## lower score is better"
   ]
  },
  {
   "cell_type": "code",
   "execution_count": 205,
   "metadata": {},
   "outputs": [
    {
     "name": "stdout",
     "output_type": "stream",
     "text": [
      "Testing performance of clustering using DB index score. Lower score is better.\n",
      "DB Index score for Kmeans -  0.809796353624\n",
      "DB Index score for DB Scan -  1.60754573261\n"
     ]
    }
   ],
   "source": [
    "from sklearn.metrics import davies_bouldin_score\n",
    "## lower score is better\n",
    "\n",
    "print('Testing performance of clustering using DB index score. Lower score is better.')\n",
    "print('DB Index score for Kmeans - ', davies_bouldin_score(_k_means_fit, col_group))\n",
    "print('DB Index score for DB Scan - ', davies_bouldin_score(_dbs_fit, col_group_dbs))"
   ]
  },
  {
   "cell_type": "code",
   "execution_count": 203,
   "metadata": {},
   "outputs": [
    {
     "name": "stdout",
     "output_type": "stream",
     "text": [
      "1.60754573261\n"
     ]
    }
   ],
   "source": []
  },
  {
   "cell_type": "code",
   "execution_count": null,
   "metadata": {},
   "outputs": [],
   "source": []
  },
  {
   "cell_type": "code",
   "execution_count": null,
   "metadata": {},
   "outputs": [],
   "source": []
  },
  {
   "cell_type": "markdown",
   "metadata": {},
   "source": [
    "# Smell categorisation"
   ]
  },
  {
   "cell_type": "markdown",
   "metadata": {},
   "source": [
    "## Word Synsets - \n",
    "\n",
    "Wordnet - WordNet is a lexical database of semantic relations between words in more than 200 languages. WordNet links words into semantic relations including synonyms, hyponyms, and meronyms. The synonyms are grouped into synsets with short definitions and usage examples.\n",
    "\n",
    "Synset -  a synset or synonym set is defined as a set of one or more synonyms that are interchangeable in some context without changing the truth value of the proposition in which they are embedded. \n",
    "\n",
    "#### Hypernyms and Hyponyms - \n",
    "\n",
    "Nouns\n",
    "\n",
    "    hypernyms: Y is a hypernym of X if every X is a (kind of) Y (canine is a hypernym of dog)\n",
    "    hyponyms: Y is a hyponym of X if every Y is a (kind of) X (dog is a hyponym of canine)\n",
    "\n",
    "Verbs\n",
    "\n",
    "    hypernym: the verb Y is a hypernym of the verb X if the activity X is a (kind of) Y (to perceive is an hypernym of to listen)\n",
    "    \n",
    "    \n",
    "<img src=\"https://upload.wikimedia.org/wikipedia/commons/thumb/b/b4/Hyponym_and_hypernym.svg/1920px-Hyponym_and_hypernym.svg.png\" alt=\"Euclidean distance formula\" style=\"width: 500px;\"/>\n",
    "    \n",
    "    \n",
    "References - \n",
    "https://en.wikipedia.org/wiki/WordNet\n"
   ]
  },
  {
   "cell_type": "code",
   "execution_count": 125,
   "metadata": {},
   "outputs": [
    {
     "data": {
      "text/html": [
       "<div>\n",
       "<style scoped>\n",
       "    .dataframe tbody tr th:only-of-type {\n",
       "        vertical-align: middle;\n",
       "    }\n",
       "\n",
       "    .dataframe tbody tr th {\n",
       "        vertical-align: top;\n",
       "    }\n",
       "\n",
       "    .dataframe thead th {\n",
       "        text-align: right;\n",
       "    }\n",
       "</style>\n",
       "<table border=\"1\" class=\"dataframe\">\n",
       "  <thead>\n",
       "    <tr style=\"text-align: right;\">\n",
       "      <th></th>\n",
       "      <th>smell_code</th>\n",
       "      <th>smell_group</th>\n",
       "      <th>smell_subgroup</th>\n",
       "      <th>smell_head</th>\n",
       "      <th>smell_heart</th>\n",
       "      <th>smell_base</th>\n",
       "    </tr>\n",
       "  </thead>\n",
       "  <tbody>\n",
       "    <tr>\n",
       "      <th>0</th>\n",
       "      <td>AR309941</td>\n",
       "      <td>Oriental</td>\n",
       "      <td>Gourmand</td>\n",
       "      <td>coconut, almond</td>\n",
       "      <td>gourmande, sweet, chocolate</td>\n",
       "      <td>vanilla</td>\n",
       "    </tr>\n",
       "    <tr>\n",
       "      <th>1</th>\n",
       "      <td>AR452415</td>\n",
       "      <td>Floral</td>\n",
       "      <td>Floriental</td>\n",
       "      <td>hot pink pepper, strawberry and cassis</td>\n",
       "      <td>heady tuberose, jasmine,  white lily whilst</td>\n",
       "      <td>Patchouli, vanilla, precious musk</td>\n",
       "    </tr>\n",
       "    <tr>\n",
       "      <th>2</th>\n",
       "      <td>AR289591</td>\n",
       "      <td>Oriental</td>\n",
       "      <td>Floriental</td>\n",
       "      <td>coconut, milk</td>\n",
       "      <td>Jasmin</td>\n",
       "      <td>vanilla, caramelized sugar</td>\n",
       "    </tr>\n",
       "    <tr>\n",
       "      <th>3</th>\n",
       "      <td>AL223556</td>\n",
       "      <td>Fresh</td>\n",
       "      <td>Fruity</td>\n",
       "      <td>Citrus, Orange, Bergamot</td>\n",
       "      <td>Citrus, Green Mango, Sea Salt</td>\n",
       "      <td>Sea Kelp, Floral, Amber</td>\n",
       "    </tr>\n",
       "    <tr>\n",
       "      <th>4</th>\n",
       "      <td>AL223563</td>\n",
       "      <td>Fresh</td>\n",
       "      <td>Flowery</td>\n",
       "      <td>Lavender, Moss</td>\n",
       "      <td>Sea Minerals, Bergamot</td>\n",
       "      <td>Sandalwood, Amber</td>\n",
       "    </tr>\n",
       "  </tbody>\n",
       "</table>\n",
       "</div>"
      ],
      "text/plain": [
       "  smell_code smell_group smell_subgroup  \\\n",
       "0   AR309941    Oriental       Gourmand   \n",
       "1   AR452415      Floral     Floriental   \n",
       "2   AR289591    Oriental     Floriental   \n",
       "3   AL223556       Fresh         Fruity   \n",
       "4   AL223563       Fresh        Flowery   \n",
       "\n",
       "                               smell_head  \\\n",
       "0                         coconut, almond   \n",
       "1  hot pink pepper, strawberry and cassis   \n",
       "2                           coconut, milk   \n",
       "3                Citrus, Orange, Bergamot   \n",
       "4                          Lavender, Moss   \n",
       "\n",
       "                                   smell_heart  \\\n",
       "0                  gourmande, sweet, chocolate   \n",
       "1  heady tuberose, jasmine,  white lily whilst   \n",
       "2                                       Jasmin   \n",
       "3                Citrus, Green Mango, Sea Salt   \n",
       "4                       Sea Minerals, Bergamot   \n",
       "\n",
       "                          smell_base  \n",
       "0                            vanilla  \n",
       "1  Patchouli, vanilla, precious musk  \n",
       "2         vanilla, caramelized sugar  \n",
       "3            Sea Kelp, Floral, Amber  \n",
       "4                  Sandalwood, Amber  "
      ]
     },
     "execution_count": 125,
     "metadata": {},
     "output_type": "execute_result"
    }
   ],
   "source": [
    "frag.head()"
   ]
  },
  {
   "cell_type": "code",
   "execution_count": 104,
   "metadata": {},
   "outputs": [],
   "source": [
    "## Create synsets\n",
    "\n",
    "lemon = wn.synset('lemon.n.01')\n",
    "citrus = wn.synset('citrus.n.01')\n",
    "orange = wn.synset('orange.n.01')\n",
    "tangerine = wn.synset('tangerine.n.01')\n",
    "clementine = wn.synset('clementine.n.01')"
   ]
  },
  {
   "cell_type": "code",
   "execution_count": 105,
   "metadata": {},
   "outputs": [
    {
     "data": {
      "text/plain": [
       "[Synset('citrange.n.02'),\n",
       " Synset('citron.n.01'),\n",
       " Synset('grapefruit.n.02'),\n",
       " Synset('kumquat.n.02'),\n",
       " Synset('lemon.n.01'),\n",
       " Synset('lime.n.06'),\n",
       " Synset('mandarin.n.05'),\n",
       " Synset('orange.n.01'),\n",
       " Synset('pomelo.n.02')]"
      ]
     },
     "execution_count": 105,
     "metadata": {},
     "output_type": "execute_result"
    }
   ],
   "source": [
    "citrus.hyponyms()"
   ]
  },
  {
   "cell_type": "code",
   "execution_count": 121,
   "metadata": {},
   "outputs": [
    {
     "name": "stdout",
     "output_type": "stream",
     "text": [
      "Synset('citrus.n.01') \n",
      "\n",
      "Hyponyms for - citrus \n",
      " [Synset('citrange.n.02'), Synset('citron.n.01'), Synset('grapefruit.n.02'), Synset('kumquat.n.02'), Synset('lemon.n.01'), Synset('lime.n.06'), Synset('mandarin.n.05'), Synset('orange.n.01'), Synset('pomelo.n.02')]\n",
      "\n",
      " Hypernyms for - citrus \n",
      " [Synset('edible_fruit.n.01')]\n"
     ]
    }
   ],
   "source": [
    "## Create a synset for a word\n",
    "\n",
    "w1 = 'citrus'\n",
    "syntest = wn.synsets(w1)\n",
    "woi=syntest[0]\n",
    "print(woi,'\\n')\n",
    "print('Hyponyms for -',w1,'\\n' , woi.hyponyms())\n",
    "print('\\n' ,'Hypernyms for -',w1,'\\n' , woi.hypernyms())"
   ]
  },
  {
   "cell_type": "code",
   "execution_count": 133,
   "metadata": {},
   "outputs": [
    {
     "name": "stdout",
     "output_type": "stream",
     "text": [
      "Synset('jasmine.n.01') \n",
      "\n",
      "Hyponyms for - jasmine \n",
      " [Synset('arabian_jasmine.n.01'), Synset('common_jasmine.n.01'), Synset('primrose_jasmine.n.01'), Synset('winter_jasmine.n.01')]\n",
      "\n",
      " Hypernyms for - jasmine \n",
      " [Synset('shrub.n.01')]\n"
     ]
    }
   ],
   "source": [
    "w1 = 'jasmine'\n",
    "syntest = wn.synsets(w1)\n",
    "woi=syntest[0]\n",
    "print(woi,'\\n')\n",
    "print('Hyponyms for -',w1,'\\n' , woi.hyponyms())\n",
    "print('\\n' ,'Hypernyms for -',w1,'\\n' , woi.hypernyms())"
   ]
  },
  {
   "cell_type": "markdown",
   "metadata": {},
   "source": [
    "* Hypernyms and Hyponyms can be used to identify the generalised groups of certain words such as Orange, citrus\n",
    "     \n",
    "* But, there are words which would have to be directly compared to check, for e.g. Jasmine/jasmin"
   ]
  },
  {
   "cell_type": "code",
   "execution_count": null,
   "metadata": {},
   "outputs": [],
   "source": []
  },
  {
   "cell_type": "code",
   "execution_count": null,
   "metadata": {},
   "outputs": [],
   "source": []
  },
  {
   "cell_type": "markdown",
   "metadata": {},
   "source": [
    "# Testing and comparing available colour package and user defined function to convert RGB to HSL"
   ]
  },
  {
   "cell_type": "code",
   "execution_count": 2,
   "metadata": {},
   "outputs": [
    {
     "name": "stdout",
     "output_type": "stream",
     "text": [
      "Collecting colormath\n",
      "  Downloading https://files.pythonhosted.org/packages/ce/cf/70ea34103a76cc6fb1892289bda321cd0cc73b1a5500ee7fe9ef9f64acef/colormath-3.0.0.tar.gz\n",
      "Requirement already satisfied: numpy in c:\\programdata\\anaconda3\\lib\\site-packages (from colormath) (1.16.5)\n",
      "Requirement already satisfied: networkx>=2.0 in c:\\programdata\\anaconda3\\lib\\site-packages (from colormath) (2.3)\n",
      "Requirement already satisfied: decorator>=4.3.0 in c:\\programdata\\anaconda3\\lib\\site-packages (from networkx>=2.0->colormath) (4.4.0)\n",
      "Building wheels for collected packages: colormath\n",
      "  Building wheel for colormath (setup.py): started\n",
      "  Building wheel for colormath (setup.py): finished with status 'done'\n",
      "  Created wheel for colormath: filename=colormath-3.0.0-cp37-none-any.whl size=39394 sha256=6f6b8e101ea23b9c033f766d0c5d367c3ca51ecd82b9082bb97eab41c984a598\n",
      "  Stored in directory: C:\\Users\\kurup\\AppData\\Local\\pip\\Cache\\wheels\\20\\49\\7b\\9635bccd6136cc713f623caa85ced89c0c63878f8b2a58fe99\n",
      "Successfully built colormath\n",
      "Installing collected packages: colormath\n",
      "Successfully installed colormath-3.0.0\n"
     ]
    }
   ],
   "source": [
    "!pip install colormath"
   ]
  },
  {
   "cell_type": "code",
   "execution_count": 3,
   "metadata": {},
   "outputs": [],
   "source": [
    "from colormath import color_conversions"
   ]
  },
  {
   "cell_type": "code",
   "execution_count": 10,
   "metadata": {},
   "outputs": [],
   "source": [
    "from colormath.color_objects import XYZColor, sRGBColor, LabColor\n",
    "from colormath.color_conversions import convert_color\n",
    "\n",
    "rgb = sRGBColor(0.1, 0.2, 0.3)\n",
    "xyz = convert_color(rgb, XYZColor, target_illuminant='d50')\n",
    "lab = convert_color(xyz, LabColor)"
   ]
  },
  {
   "cell_type": "code",
   "execution_count": 13,
   "metadata": {},
   "outputs": [
    {
     "data": {
      "text/plain": [
       "colormath.color_objects.LabColor"
      ]
     },
     "execution_count": 13,
     "metadata": {},
     "output_type": "execute_result"
    }
   ],
   "source": [
    "type(lab)"
   ]
  },
  {
   "cell_type": "code",
   "execution_count": null,
   "metadata": {},
   "outputs": [],
   "source": []
  },
  {
   "cell_type": "code",
   "execution_count": 3,
   "metadata": {},
   "outputs": [
    {
     "data": {
      "text/html": [
       "<div>\n",
       "<style scoped>\n",
       "    .dataframe tbody tr th:only-of-type {\n",
       "        vertical-align: middle;\n",
       "    }\n",
       "\n",
       "    .dataframe tbody tr th {\n",
       "        vertical-align: top;\n",
       "    }\n",
       "\n",
       "    .dataframe thead th {\n",
       "        text-align: right;\n",
       "    }\n",
       "</style>\n",
       "<table border=\"1\" class=\"dataframe\">\n",
       "  <thead>\n",
       "    <tr style=\"text-align: right;\">\n",
       "      <th></th>\n",
       "      <th>pantone</th>\n",
       "      <th>hex</th>\n",
       "      <th>munsell_hue</th>\n",
       "      <th>munsell_value</th>\n",
       "      <th>munsell_chroma</th>\n",
       "      <th>name</th>\n",
       "    </tr>\n",
       "  </thead>\n",
       "  <tbody>\n",
       "    <tr>\n",
       "      <td>0</td>\n",
       "      <td>7499C</td>\n",
       "      <td>F1E6B2</td>\n",
       "      <td>10Y</td>\n",
       "      <td>9</td>\n",
       "      <td>4</td>\n",
       "      <td>Light Yellow</td>\n",
       "    </tr>\n",
       "    <tr>\n",
       "      <td>1</td>\n",
       "      <td>2587C</td>\n",
       "      <td>8246AF</td>\n",
       "      <td>2.5P</td>\n",
       "      <td>4</td>\n",
       "      <td>14</td>\n",
       "      <td>Dark Purple</td>\n",
       "    </tr>\n",
       "    <tr>\n",
       "      <td>2</td>\n",
       "      <td>357C</td>\n",
       "      <td>215732</td>\n",
       "      <td>10GY</td>\n",
       "      <td>3</td>\n",
       "      <td>6</td>\n",
       "      <td>Green</td>\n",
       "    </tr>\n",
       "    <tr>\n",
       "      <td>3</td>\n",
       "      <td>204C</td>\n",
       "      <td>E782A9</td>\n",
       "      <td>7.5RP</td>\n",
       "      <td>6</td>\n",
       "      <td>10</td>\n",
       "      <td>Light Pink</td>\n",
       "    </tr>\n",
       "    <tr>\n",
       "      <td>4</td>\n",
       "      <td>2635C</td>\n",
       "      <td>C5B4E3</td>\n",
       "      <td>2.5P</td>\n",
       "      <td>7</td>\n",
       "      <td>6</td>\n",
       "      <td>Light Purple</td>\n",
       "    </tr>\n",
       "  </tbody>\n",
       "</table>\n",
       "</div>"
      ],
      "text/plain": [
       "  pantone     hex munsell_hue  munsell_value  munsell_chroma          name\n",
       "0   7499C  F1E6B2         10Y              9               4  Light Yellow\n",
       "1   2587C  8246AF        2.5P              4              14   Dark Purple\n",
       "2    357C  215732        10GY              3               6        Green \n",
       "3    204C  E782A9       7.5RP              6              10    Light Pink\n",
       "4   2635C  C5B4E3        2.5P              7               6  Light Purple"
      ]
     },
     "execution_count": 3,
     "metadata": {},
     "output_type": "execute_result"
    }
   ],
   "source": [
    "colours.head()"
   ]
  },
  {
   "cell_type": "code",
   "execution_count": 53,
   "metadata": {},
   "outputs": [
    {
     "data": {
      "text/html": [
       "<div>\n",
       "<style scoped>\n",
       "    .dataframe tbody tr th:only-of-type {\n",
       "        vertical-align: middle;\n",
       "    }\n",
       "\n",
       "    .dataframe tbody tr th {\n",
       "        vertical-align: top;\n",
       "    }\n",
       "\n",
       "    .dataframe thead th {\n",
       "        text-align: right;\n",
       "    }\n",
       "</style>\n",
       "<table border=\"1\" class=\"dataframe\">\n",
       "  <thead>\n",
       "    <tr style=\"text-align: right;\">\n",
       "      <th></th>\n",
       "      <th>index</th>\n",
       "      <th>product_name</th>\n",
       "      <th>hue</th>\n",
       "    </tr>\n",
       "  </thead>\n",
       "  <tbody>\n",
       "    <tr>\n",
       "      <td>0</td>\n",
       "      <td>0</td>\n",
       "      <td>Cookies &amp; Cream</td>\n",
       "      <td>40.0</td>\n",
       "    </tr>\n",
       "    <tr>\n",
       "      <td>1</td>\n",
       "      <td>1</td>\n",
       "      <td>Creamy Vanilla</td>\n",
       "      <td>40.0</td>\n",
       "    </tr>\n",
       "    <tr>\n",
       "      <td>2</td>\n",
       "      <td>2</td>\n",
       "      <td>Happy Birthday</td>\n",
       "      <td>316.0</td>\n",
       "    </tr>\n",
       "    <tr>\n",
       "      <td>3</td>\n",
       "      <td>3</td>\n",
       "      <td>Passion Fruit</td>\n",
       "      <td>57.0</td>\n",
       "    </tr>\n",
       "    <tr>\n",
       "      <td>4</td>\n",
       "      <td>4</td>\n",
       "      <td>Pink Cherry</td>\n",
       "      <td>327.0</td>\n",
       "    </tr>\n",
       "    <tr>\n",
       "      <td>...</td>\n",
       "      <td>...</td>\n",
       "      <td>...</td>\n",
       "      <td>...</td>\n",
       "    </tr>\n",
       "    <tr>\n",
       "      <td>129</td>\n",
       "      <td>230</td>\n",
       "      <td>Bohemian Chic</td>\n",
       "      <td>40.0</td>\n",
       "    </tr>\n",
       "    <tr>\n",
       "      <td>130</td>\n",
       "      <td>231</td>\n",
       "      <td>You're a Gentleman</td>\n",
       "      <td>193.0</td>\n",
       "    </tr>\n",
       "    <tr>\n",
       "      <td>131</td>\n",
       "      <td>232</td>\n",
       "      <td>Owl I Need Is You</td>\n",
       "      <td>240.0</td>\n",
       "    </tr>\n",
       "    <tr>\n",
       "      <td>132</td>\n",
       "      <td>237</td>\n",
       "      <td>Sparkle and Shine</td>\n",
       "      <td>347.0</td>\n",
       "    </tr>\n",
       "    <tr>\n",
       "      <td>133</td>\n",
       "      <td>239</td>\n",
       "      <td>Tropical Vibes</td>\n",
       "      <td>203.0</td>\n",
       "    </tr>\n",
       "  </tbody>\n",
       "</table>\n",
       "<p>134 rows × 3 columns</p>\n",
       "</div>"
      ],
      "text/plain": [
       "     index        product_name    hue\n",
       "0        0     Cookies & Cream   40.0\n",
       "1        1      Creamy Vanilla   40.0\n",
       "2        2      Happy Birthday  316.0\n",
       "3        3       Passion Fruit   57.0\n",
       "4        4         Pink Cherry  327.0\n",
       "..     ...                 ...    ...\n",
       "129    230       Bohemian Chic   40.0\n",
       "130    231  You're a Gentleman  193.0\n",
       "131    232   Owl I Need Is You  240.0\n",
       "132    237   Sparkle and Shine  347.0\n",
       "133    239      Tropical Vibes  203.0\n",
       "\n",
       "[134 rows x 3 columns]"
      ]
     },
     "execution_count": 53,
     "metadata": {},
     "output_type": "execute_result"
    }
   ],
   "source": [
    "prod_col[['product_name', 'hue']][~prod_col.hue.isna()].reset_index()"
   ]
  },
  {
   "cell_type": "code",
   "execution_count": 68,
   "metadata": {
    "scrolled": true
   },
   "outputs": [],
   "source": [
    "# pd.DataFrame(prod_col.corrwith(prod_col, axis = 1)).to_csv('prod_col.csv')"
   ]
  },
  {
   "cell_type": "code",
   "execution_count": 152,
   "metadata": {},
   "outputs": [],
   "source": [
    "# Function to convert hex values to RGB values\n",
    "\n",
    "def hex_to_rgb_1(hex_value):\n",
    "    h = str(hex_value).lstrip('#')\n",
    "    return tuple(int(h[i:i + 2], 16) for i in (0, 2, 4))"
   ]
  },
  {
   "cell_type": "code",
   "execution_count": 155,
   "metadata": {},
   "outputs": [],
   "source": [
    "# Function to convert RGB values to HSL values\n",
    "\n",
    "def rgb_to_hsl_1(r, g, b):\n",
    "    r = float(r)\n",
    "    g = float(g)\n",
    "    b = float(b)\n",
    "    high = max(r, g, b)\n",
    "    low = min(r, g, b)\n",
    "    h, s, l = ((high + low) / 2,)*3\n",
    "\n",
    "    if high == low:\n",
    "        h = 0.0\n",
    "        s = 0.0\n",
    "    else:\n",
    "        l = (high + low) / 2\n",
    "        d = high - low\n",
    "        s = d / (2 - high - low) if l > 0.5 else d / (high + low)\n",
    "        h = {\n",
    "            r: (g - b) / d + (6 if g < b else 0),\n",
    "            g: (b - r) / d + 2,\n",
    "            b: (r - g) / d + 4,\n",
    "        }[high]\n",
    "        h /= 6\n",
    "#round(h*360), round(s*100), round(l*100)\n",
    "    return h,s,l"
   ]
  },
  {
   "cell_type": "code",
   "execution_count": 156,
   "metadata": {},
   "outputs": [
    {
     "data": {
      "text/plain": [
       "(18, 52, 80)"
      ]
     },
     "execution_count": 156,
     "metadata": {},
     "output_type": "execute_result"
    }
   ],
   "source": [
    "# Define hex value to convert\n",
    "\n",
    "_hex = '123450'\n",
    "hex_to_rgb_1(_hex)"
   ]
  },
  {
   "cell_type": "code",
   "execution_count": 154,
   "metadata": {},
   "outputs": [
    {
     "data": {
      "text/plain": [
       "(0.575268817204301, 0.775, 0.3137254901960784)"
      ]
     },
     "execution_count": 154,
     "metadata": {},
     "output_type": "execute_result"
    }
   ],
   "source": [
    "import colorsys\n",
    "\n",
    "colorsys.rgb_to_hsv(hex_to_rgb(_hex)[0], hex_to_rgb(_hex)[1], hex_to_rgb(_hex)[2])"
   ]
  },
  {
   "cell_type": "code",
   "execution_count": 157,
   "metadata": {},
   "outputs": [
    {
     "name": "stdout",
     "output_type": "stream",
     "text": [
      "H -  207 \n",
      "S -  63 \n",
      "L -  19\n"
     ]
    }
   ],
   "source": [
    "# H L S format using colorsys package\n",
    "\n",
    "colorsys_convert = colorsys.rgb_to_hls(hex_to_rgb(_hex)[0], hex_to_rgb(_hex)[1], hex_to_rgb(_hex)[2])\n",
    "print('H - ',round(colorsys_convert[0]*360),  '\\nS - ',round(colorsys_convert[2]*100),  '\\nL - ',round(colorsys_convert[1]*100))"
   ]
  },
  {
   "cell_type": "code",
   "execution_count": 171,
   "metadata": {},
   "outputs": [
    {
     "name": "stdout",
     "output_type": "stream",
     "text": [
      "H -  207 \n",
      "S -  63 \n",
      "L -  19\n"
     ]
    }
   ],
   "source": [
    "# H S L format using user defind function\n",
    "\n",
    "func_convert = rgb_to_hsl_1(hex_to_rgb(_hex)[0], hex_to_rgb(_hex)[1], hex_to_rgb(_hex)[2])\n",
    "print('H - ',round(func_convert[0]*360),  '\\nS - ',round(func_convert[1]*100),  '\\nL - ',round(func_convert[2]*100))"
   ]
  },
  {
   "attachments": {
    "image.png": {
     "image/png": "[encoded data removed]"
    }
   },
   "cell_type": "markdown",
   "metadata": {},
   "source": [
    "source - https://www.w3schools.com/colors/colors_converter.asp\n",
    "\n",
    "\n",
    "![image.png](attachment:image.png)\n",
    "\n"
   ]
  }
 ],
 "metadata": {
  "kernelspec": {
   "display_name": "Python 3",
   "language": "python",
   "name": "python3"
  },
  "language_info": {
   "codemirror_mode": {
    "name": "ipython",
    "version": 3
   },
   "file_extension": ".py",
   "mimetype": "text/x-python",
   "name": "python",
   "nbconvert_exporter": "python",
   "pygments_lexer": "ipython3",
   "version": "3.8.5"
  }
 },
 "nbformat": 4,
 "nbformat_minor": 2
}
